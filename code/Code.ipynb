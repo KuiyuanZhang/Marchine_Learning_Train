{
 "cells": [
  {
   "cell_type": "markdown",
   "metadata": {},
   "source": [
    "# 一.导入包和数据预处理"
   ]
  },
  {
   "cell_type": "code",
   "execution_count": 1,
   "metadata": {},
   "outputs": [
    {
     "name": "stderr",
     "output_type": "stream",
     "text": [
      "/Users/kyzhang/anaconda/lib/python3.6/site-packages/lightgbm/__init__.py:46: UserWarning: Starting from version 2.2.1, the library file in distribution wheels for macOS is built by the Apple Clang (Xcode_9.4.1) compiler.\n",
      "This means that in case of installing LightGBM from PyPI via the ``pip install lightgbm`` command, you don't need to install the gcc compiler anymore.\n",
      "Instead of that, you need to install the OpenMP library, which is required for running LightGBM on the system with the Apple Clang compiler.\n",
      "You can install the OpenMP library by the following command: ``brew install libomp``.\n",
      "  \"You can install the OpenMP library by the following command: ``brew install libomp``.\", UserWarning)\n"
     ]
    }
   ],
   "source": [
    "import numpy as np \n",
    "import pandas as pd \n",
    "import matplotlib.pyplot as plt \n",
    "plt.rcParams['font.size'] = 22\n",
    "%matplotlib inline\n",
    "import seaborn as sns\n",
    "\n",
    "from sklearn.preprocessing import LabelEncoder,OneHotEncoder\n",
    "from sklearn.model_selection import train_test_split\n",
    "from sklearn.model_selection import KFold\n",
    "from sklearn.metrics import roc_auc_score\n",
    "from sklearn import metrics\n",
    "\n",
    "#import featuretools as ft\n",
    "\n",
    "import lightgbm as lgb\n",
    "\n",
    "import warnings\n",
    "warnings.filterwarnings('ignore')\n",
    "\n",
    "import gc"
   ]
  },
  {
   "cell_type": "code",
   "execution_count": 2,
   "metadata": {},
   "outputs": [
    {
     "name": "stdout",
     "output_type": "stream",
     "text": [
      "['data.csv']\n"
     ]
    }
   ],
   "source": [
    "#检测文件目录\n",
    "import os\n",
    "print(os.listdir(\"../input/\"))"
   ]
  },
  {
   "cell_type": "code",
   "execution_count": 3,
   "metadata": {
    "collapsed": true
   },
   "outputs": [],
   "source": [
    "#读取数据\n",
    "data = pd.read_csv(\"../input/data.csv\",encoding=\"gb18030\")"
   ]
  },
  {
   "cell_type": "code",
   "execution_count": 4,
   "metadata": {},
   "outputs": [
    {
     "data": {
      "text/html": [
       "<div>\n",
       "<style scoped>\n",
       "    .dataframe tbody tr th:only-of-type {\n",
       "        vertical-align: middle;\n",
       "    }\n",
       "\n",
       "    .dataframe tbody tr th {\n",
       "        vertical-align: top;\n",
       "    }\n",
       "\n",
       "    .dataframe thead th {\n",
       "        text-align: right;\n",
       "    }\n",
       "</style>\n",
       "<table border=\"1\" class=\"dataframe\">\n",
       "  <thead>\n",
       "    <tr style=\"text-align: right;\">\n",
       "      <th></th>\n",
       "      <th>Unnamed: 0</th>\n",
       "      <th>custid</th>\n",
       "      <th>trade_no</th>\n",
       "      <th>bank_card_no</th>\n",
       "      <th>low_volume_percent</th>\n",
       "      <th>middle_volume_percent</th>\n",
       "      <th>take_amount_in_later_12_month_highest</th>\n",
       "      <th>trans_amount_increase_rate_lately</th>\n",
       "      <th>trans_activity_month</th>\n",
       "      <th>trans_activity_day</th>\n",
       "      <th>...</th>\n",
       "      <th>loans_max_limit</th>\n",
       "      <th>loans_avg_limit</th>\n",
       "      <th>consfin_credit_limit</th>\n",
       "      <th>consfin_credibility</th>\n",
       "      <th>consfin_org_count_current</th>\n",
       "      <th>consfin_product_count</th>\n",
       "      <th>consfin_max_limit</th>\n",
       "      <th>consfin_avg_limit</th>\n",
       "      <th>latest_query_day</th>\n",
       "      <th>loans_latest_day</th>\n",
       "    </tr>\n",
       "  </thead>\n",
       "  <tbody>\n",
       "    <tr>\n",
       "      <th>0</th>\n",
       "      <td>5</td>\n",
       "      <td>2791858</td>\n",
       "      <td>20180507115231274000000023057383</td>\n",
       "      <td>卡号1</td>\n",
       "      <td>0.01</td>\n",
       "      <td>0.99</td>\n",
       "      <td>0</td>\n",
       "      <td>0.90</td>\n",
       "      <td>0.55</td>\n",
       "      <td>0.313</td>\n",
       "      <td>...</td>\n",
       "      <td>2900.0</td>\n",
       "      <td>1688.0</td>\n",
       "      <td>1200.0</td>\n",
       "      <td>75.0</td>\n",
       "      <td>1.0</td>\n",
       "      <td>2.0</td>\n",
       "      <td>1200.0</td>\n",
       "      <td>1200.0</td>\n",
       "      <td>12.0</td>\n",
       "      <td>18.0</td>\n",
       "    </tr>\n",
       "    <tr>\n",
       "      <th>1</th>\n",
       "      <td>10</td>\n",
       "      <td>534047</td>\n",
       "      <td>20180507121002192000000023073000</td>\n",
       "      <td>卡号1</td>\n",
       "      <td>0.02</td>\n",
       "      <td>0.94</td>\n",
       "      <td>2000</td>\n",
       "      <td>1.28</td>\n",
       "      <td>1.00</td>\n",
       "      <td>0.458</td>\n",
       "      <td>...</td>\n",
       "      <td>3500.0</td>\n",
       "      <td>1758.0</td>\n",
       "      <td>15100.0</td>\n",
       "      <td>80.0</td>\n",
       "      <td>5.0</td>\n",
       "      <td>6.0</td>\n",
       "      <td>22800.0</td>\n",
       "      <td>9360.0</td>\n",
       "      <td>4.0</td>\n",
       "      <td>2.0</td>\n",
       "    </tr>\n",
       "    <tr>\n",
       "      <th>2</th>\n",
       "      <td>12</td>\n",
       "      <td>2849787</td>\n",
       "      <td>20180507125159718000000023114911</td>\n",
       "      <td>卡号1</td>\n",
       "      <td>0.04</td>\n",
       "      <td>0.96</td>\n",
       "      <td>0</td>\n",
       "      <td>1.00</td>\n",
       "      <td>1.00</td>\n",
       "      <td>0.114</td>\n",
       "      <td>...</td>\n",
       "      <td>1600.0</td>\n",
       "      <td>1250.0</td>\n",
       "      <td>4200.0</td>\n",
       "      <td>87.0</td>\n",
       "      <td>1.0</td>\n",
       "      <td>1.0</td>\n",
       "      <td>4200.0</td>\n",
       "      <td>4200.0</td>\n",
       "      <td>2.0</td>\n",
       "      <td>6.0</td>\n",
       "    </tr>\n",
       "    <tr>\n",
       "      <th>3</th>\n",
       "      <td>13</td>\n",
       "      <td>1809708</td>\n",
       "      <td>20180507121358683000000388283484</td>\n",
       "      <td>卡号1</td>\n",
       "      <td>0.00</td>\n",
       "      <td>0.96</td>\n",
       "      <td>2000</td>\n",
       "      <td>0.13</td>\n",
       "      <td>0.57</td>\n",
       "      <td>0.777</td>\n",
       "      <td>...</td>\n",
       "      <td>3200.0</td>\n",
       "      <td>1541.0</td>\n",
       "      <td>16300.0</td>\n",
       "      <td>80.0</td>\n",
       "      <td>5.0</td>\n",
       "      <td>5.0</td>\n",
       "      <td>30000.0</td>\n",
       "      <td>12180.0</td>\n",
       "      <td>2.0</td>\n",
       "      <td>4.0</td>\n",
       "    </tr>\n",
       "    <tr>\n",
       "      <th>4</th>\n",
       "      <td>14</td>\n",
       "      <td>2499829</td>\n",
       "      <td>20180507115448545000000388205844</td>\n",
       "      <td>卡号1</td>\n",
       "      <td>0.01</td>\n",
       "      <td>0.99</td>\n",
       "      <td>0</td>\n",
       "      <td>0.46</td>\n",
       "      <td>1.00</td>\n",
       "      <td>0.175</td>\n",
       "      <td>...</td>\n",
       "      <td>2300.0</td>\n",
       "      <td>1630.0</td>\n",
       "      <td>8300.0</td>\n",
       "      <td>79.0</td>\n",
       "      <td>2.0</td>\n",
       "      <td>2.0</td>\n",
       "      <td>8400.0</td>\n",
       "      <td>8250.0</td>\n",
       "      <td>22.0</td>\n",
       "      <td>120.0</td>\n",
       "    </tr>\n",
       "  </tbody>\n",
       "</table>\n",
       "<p>5 rows × 90 columns</p>\n",
       "</div>"
      ],
      "text/plain": [
       "   Unnamed: 0   custid                          trade_no bank_card_no  \\\n",
       "0           5  2791858  20180507115231274000000023057383          卡号1   \n",
       "1          10   534047  20180507121002192000000023073000          卡号1   \n",
       "2          12  2849787  20180507125159718000000023114911          卡号1   \n",
       "3          13  1809708  20180507121358683000000388283484          卡号1   \n",
       "4          14  2499829  20180507115448545000000388205844          卡号1   \n",
       "\n",
       "   low_volume_percent  middle_volume_percent  \\\n",
       "0                0.01                   0.99   \n",
       "1                0.02                   0.94   \n",
       "2                0.04                   0.96   \n",
       "3                0.00                   0.96   \n",
       "4                0.01                   0.99   \n",
       "\n",
       "   take_amount_in_later_12_month_highest  trans_amount_increase_rate_lately  \\\n",
       "0                                      0                               0.90   \n",
       "1                                   2000                               1.28   \n",
       "2                                      0                               1.00   \n",
       "3                                   2000                               0.13   \n",
       "4                                      0                               0.46   \n",
       "\n",
       "   trans_activity_month  trans_activity_day  ...  loans_max_limit  \\\n",
       "0                  0.55               0.313  ...           2900.0   \n",
       "1                  1.00               0.458  ...           3500.0   \n",
       "2                  1.00               0.114  ...           1600.0   \n",
       "3                  0.57               0.777  ...           3200.0   \n",
       "4                  1.00               0.175  ...           2300.0   \n",
       "\n",
       "   loans_avg_limit  consfin_credit_limit  consfin_credibility  \\\n",
       "0           1688.0                1200.0                 75.0   \n",
       "1           1758.0               15100.0                 80.0   \n",
       "2           1250.0                4200.0                 87.0   \n",
       "3           1541.0               16300.0                 80.0   \n",
       "4           1630.0                8300.0                 79.0   \n",
       "\n",
       "   consfin_org_count_current  consfin_product_count  consfin_max_limit  \\\n",
       "0                        1.0                    2.0             1200.0   \n",
       "1                        5.0                    6.0            22800.0   \n",
       "2                        1.0                    1.0             4200.0   \n",
       "3                        5.0                    5.0            30000.0   \n",
       "4                        2.0                    2.0             8400.0   \n",
       "\n",
       "   consfin_avg_limit  latest_query_day  loans_latest_day  \n",
       "0             1200.0              12.0              18.0  \n",
       "1             9360.0               4.0               2.0  \n",
       "2             4200.0               2.0               6.0  \n",
       "3            12180.0               2.0               4.0  \n",
       "4             8250.0              22.0             120.0  \n",
       "\n",
       "[5 rows x 90 columns]"
      ]
     },
     "execution_count": 4,
     "metadata": {},
     "output_type": "execute_result"
    }
   ],
   "source": [
    "data.head()"
   ]
  },
  {
   "cell_type": "code",
   "execution_count": 5,
   "metadata": {},
   "outputs": [
    {
     "name": "stdout",
     "output_type": "stream",
     "text": [
      "(4754, 90)\n"
     ]
    }
   ],
   "source": [
    "#数据形状\n",
    "print(data.shape)"
   ]
  },
  {
   "cell_type": "code",
   "execution_count": 6,
   "metadata": {},
   "outputs": [
    {
     "data": {
      "text/plain": [
       "Unnamed: 0                               4754\n",
       "custid                                   4754\n",
       "trade_no                                 4754\n",
       "bank_card_no                                1\n",
       "low_volume_percent                         40\n",
       "middle_volume_percent                      90\n",
       "take_amount_in_later_12_month_highest     166\n",
       "trans_amount_increase_rate_lately         782\n",
       "trans_activity_month                       84\n",
       "trans_activity_day                        512\n",
       "transd_mcc                                 41\n",
       "trans_days_interval_filter                147\n",
       "trans_days_interval                       114\n",
       "regional_mobility                           5\n",
       "student_feature                             2\n",
       "repayment_capability                     2390\n",
       "is_high_user                                2\n",
       "number_of_trans_from_2011                  70\n",
       "first_transaction_time                   1693\n",
       "historical_trans_amount                  4524\n",
       "historical_trans_day                      476\n",
       "rank_trad_1_month                          20\n",
       "trans_amount_3_month                     3524\n",
       "avg_consume_less_12_valid_month            12\n",
       "abs                                      1697\n",
       "top_trans_count_last_1_month                8\n",
       "avg_price_last_12_month                   330\n",
       "avg_price_top_last_12_valid_month          20\n",
       "reg_preference_for_trad                     5\n",
       "trans_top_time_last_1_month                28\n",
       "                                         ... \n",
       "loans_credibility_behavior                 25\n",
       "loans_count                               134\n",
       "loans_settle_count                        123\n",
       "loans_overdue_count                        26\n",
       "loans_org_count_behavior                   41\n",
       "consfin_org_count_behavior                 19\n",
       "loans_cash_count                           32\n",
       "latest_one_month_loan                      14\n",
       "latest_three_month_loan                    31\n",
       "latest_six_month_loan                      67\n",
       "history_suc_fee                           171\n",
       "history_fail_fee                          151\n",
       "latest_one_month_suc                       19\n",
       "latest_one_month_fail                      41\n",
       "loans_long_time                           202\n",
       "loans_latest_time                         232\n",
       "loans_credit_limit                         54\n",
       "loans_credibility_limit                    33\n",
       "loans_org_count_current                    32\n",
       "loans_product_count                        32\n",
       "loans_max_limit                            91\n",
       "loans_avg_limit                           961\n",
       "consfin_credit_limit                      327\n",
       "consfin_credibility                        24\n",
       "consfin_org_count_current                  19\n",
       "consfin_product_count                      20\n",
       "consfin_max_limit                         175\n",
       "consfin_avg_limit                        1677\n",
       "latest_query_day                          210\n",
       "loans_latest_day                          235\n",
       "Length: 90, dtype: int64"
      ]
     },
     "execution_count": 6,
     "metadata": {},
     "output_type": "execute_result"
    }
   ],
   "source": [
    "#每列数据个数\n",
    "data.apply(pd.Series.nunique, axis=0)"
   ]
  },
  {
   "cell_type": "markdown",
   "metadata": {},
   "source": [
    "#  二.探索性数据分析（EDA）"
   ]
  },
  {
   "cell_type": "markdown",
   "metadata": {},
   "source": [
    "###  总览"
   ]
  },
  {
   "cell_type": "code",
   "execution_count": 7,
   "metadata": {},
   "outputs": [
    {
     "name": "stdout",
     "output_type": "stream",
     "text": [
      "Number of not overdue:  3561\n",
      "Number of overdue :  1193\n"
     ]
    },
    {
     "data": {
      "image/png": "[encoded data removed]",
      "text/plain": [
       "<matplotlib.figure.Figure at 0x10850ef28>"
      ]
     },
     "metadata": {},
     "output_type": "display_data"
    }
   ],
   "source": [
    "sns.countplot(data.status, label=\"Count\")\n",
    "N, Y = data.status.value_counts()\n",
    "print('Number of not overdue: ',N)\n",
    "print('Number of overdue : ',Y)"
   ]
  },
  {
   "cell_type": "code",
   "execution_count": 8,
   "metadata": {},
   "outputs": [
    {
     "name": "stdout",
     "output_type": "stream",
     "text": [
      "<class 'pandas.core.frame.DataFrame'>\n",
      "RangeIndex: 4754 entries, 0 to 4753\n",
      "Data columns (total 90 columns):\n",
      "Unnamed: 0                                    4754 non-null int64\n",
      "custid                                        4754 non-null int64\n",
      "trade_no                                      4754 non-null object\n",
      "bank_card_no                                  4754 non-null object\n",
      "low_volume_percent                            4752 non-null float64\n",
      "middle_volume_percent                         4752 non-null float64\n",
      "take_amount_in_later_12_month_highest         4754 non-null int64\n",
      "trans_amount_increase_rate_lately             4751 non-null float64\n",
      "trans_activity_month                          4752 non-null float64\n",
      "trans_activity_day                            4752 non-null float64\n",
      "transd_mcc                                    4752 non-null float64\n",
      "trans_days_interval_filter                    4746 non-null float64\n",
      "trans_days_interval                           4752 non-null float64\n",
      "regional_mobility                             4752 non-null float64\n",
      "student_feature                               1756 non-null float64\n",
      "repayment_capability                          4754 non-null int64\n",
      "is_high_user                                  4754 non-null int64\n",
      "number_of_trans_from_2011                     4752 non-null float64\n",
      "first_transaction_time                        4752 non-null float64\n",
      "historical_trans_amount                       4754 non-null int64\n",
      "historical_trans_day                          4752 non-null float64\n",
      "rank_trad_1_month                             4752 non-null float64\n",
      "trans_amount_3_month                          4754 non-null int64\n",
      "avg_consume_less_12_valid_month               4752 non-null float64\n",
      "abs                                           4754 non-null int64\n",
      "top_trans_count_last_1_month                  4752 non-null float64\n",
      "avg_price_last_12_month                       4754 non-null int64\n",
      "avg_price_top_last_12_valid_month             4650 non-null float64\n",
      "reg_preference_for_trad                       4752 non-null object\n",
      "trans_top_time_last_1_month                   4746 non-null float64\n",
      "trans_top_time_last_6_month                   4746 non-null float64\n",
      "consume_top_time_last_1_month                 4746 non-null float64\n",
      "consume_top_time_last_6_month                 4746 non-null float64\n",
      "cross_consume_count_last_1_month              4328 non-null float64\n",
      "trans_fail_top_count_enum_last_1_month        4738 non-null float64\n",
      "trans_fail_top_count_enum_last_6_month        4738 non-null float64\n",
      "trans_fail_top_count_enum_last_12_month       4738 non-null float64\n",
      "consume_mini_time_last_1_month                4728 non-null float64\n",
      "max_cumulative_consume_later_1_month          4754 non-null int64\n",
      "max_consume_count_later_6_month               4746 non-null float64\n",
      "railway_consume_count_last_12_month           4742 non-null float64\n",
      "pawns_auctions_trusts_consume_last_1_month    4754 non-null int64\n",
      "pawns_auctions_trusts_consume_last_6_month    4754 non-null int64\n",
      "jewelry_consume_count_last_6_month            4742 non-null float64\n",
      "status                                        4754 non-null int64\n",
      "source                                        4754 non-null object\n",
      "first_transaction_day                         4752 non-null float64\n",
      "trans_day_last_12_month                       4752 non-null float64\n",
      "id_name                                       4478 non-null object\n",
      "apply_score                                   4450 non-null float64\n",
      "apply_credibility                             4450 non-null float64\n",
      "query_org_count                               4450 non-null float64\n",
      "query_finance_count                           4450 non-null float64\n",
      "query_cash_count                              4450 non-null float64\n",
      "query_sum_count                               4450 non-null float64\n",
      "latest_query_time                             4450 non-null object\n",
      "latest_one_month_apply                        4450 non-null float64\n",
      "latest_three_month_apply                      4450 non-null float64\n",
      "latest_six_month_apply                        4450 non-null float64\n",
      "loans_score                                   4457 non-null float64\n",
      "loans_credibility_behavior                    4457 non-null float64\n",
      "loans_count                                   4457 non-null float64\n",
      "loans_settle_count                            4457 non-null float64\n",
      "loans_overdue_count                           4457 non-null float64\n",
      "loans_org_count_behavior                      4457 non-null float64\n",
      "consfin_org_count_behavior                    4457 non-null float64\n",
      "loans_cash_count                              4457 non-null float64\n",
      "latest_one_month_loan                         4457 non-null float64\n",
      "latest_three_month_loan                       4457 non-null float64\n",
      "latest_six_month_loan                         4457 non-null float64\n",
      "history_suc_fee                               4457 non-null float64\n",
      "history_fail_fee                              4457 non-null float64\n",
      "latest_one_month_suc                          4457 non-null float64\n",
      "latest_one_month_fail                         4457 non-null float64\n",
      "loans_long_time                               4457 non-null float64\n",
      "loans_latest_time                             4457 non-null object\n",
      "loans_credit_limit                            4457 non-null float64\n",
      "loans_credibility_limit                       4457 non-null float64\n",
      "loans_org_count_current                       4457 non-null float64\n",
      "loans_product_count                           4457 non-null float64\n",
      "loans_max_limit                               4457 non-null float64\n",
      "loans_avg_limit                               4457 non-null float64\n",
      "consfin_credit_limit                          4457 non-null float64\n",
      "consfin_credibility                           4457 non-null float64\n",
      "consfin_org_count_current                     4457 non-null float64\n",
      "consfin_product_count                         4457 non-null float64\n",
      "consfin_max_limit                             4457 non-null float64\n",
      "consfin_avg_limit                             4457 non-null float64\n",
      "latest_query_day                              4450 non-null float64\n",
      "loans_latest_day                              4457 non-null float64\n",
      "dtypes: float64(70), int64(13), object(7)\n",
      "memory usage: 3.3+ MB\n"
     ]
    }
   ],
   "source": [
    "data.info()"
   ]
  },
  {
   "cell_type": "code",
   "execution_count": 9,
   "metadata": {},
   "outputs": [
    {
     "data": {
      "text/plain": [
       "float64    70\n",
       "int64      13\n",
       "object      7\n",
       "dtype: int64"
      ]
     },
     "execution_count": 9,
     "metadata": {},
     "output_type": "execute_result"
    }
   ],
   "source": [
    "#列类型统计\n",
    "data.dtypes.value_counts()"
   ]
  },
  {
   "cell_type": "code",
   "execution_count": 10,
   "metadata": {
    "collapsed": true
   },
   "outputs": [],
   "source": [
    " #列出object属性\n",
    "list_obj = [f for f in data.columns if data[f].dtype == 'object']"
   ]
  },
  {
   "cell_type": "code",
   "execution_count": 11,
   "metadata": {},
   "outputs": [
    {
     "name": "stdout",
     "output_type": "stream",
     "text": [
      "['trade_no', 'bank_card_no', 'reg_preference_for_trad', 'source', 'id_name', 'latest_query_time', 'loans_latest_time']\n"
     ]
    }
   ],
   "source": [
    "print(list_obj)"
   ]
  },
  {
   "cell_type": "markdown",
   "metadata": {},
   "source": [
    "### 去除无关数据，分组数组"
   ]
  },
  {
   "cell_type": "code",
   "execution_count": 12,
   "metadata": {
    "collapsed": true
   },
   "outputs": [],
   "source": [
    "# 去掉所有都不同和所有都相同的列\n",
    "drop_list = ['Unnamed: 0','trade_no','bank_card_no','source']\n",
    "data.drop(drop_list, axis=1, inplace=True)\n",
    "# 去掉无关的列\n",
    "data.drop(\"id_name\", axis=1, inplace=True)\n",
    "# 为避免产生噪声，去掉缺失值比例过大的student_feature特征\n",
    "data.drop(\"student_feature\", axis=1, inplace=True)"
   ]
  },
  {
   "cell_type": "code",
   "execution_count": 13,
   "metadata": {
    "collapsed": true
   },
   "outputs": [],
   "source": [
    "#把数据分为 object型 和 数值型\n",
    "data_obj_ls=['reg_preference_for_trad', 'latest_query_time', 'loans_latest_time']\n",
    "data_obj = data[data_obj_ls]\n",
    "data_num = data.drop(data_obj_ls, axis=1)"
   ]
  },
  {
   "cell_type": "code",
   "execution_count": 14,
   "metadata": {
    "scrolled": true
   },
   "outputs": [
    {
     "data": {
      "text/html": [
       "<div>\n",
       "<style scoped>\n",
       "    .dataframe tbody tr th:only-of-type {\n",
       "        vertical-align: middle;\n",
       "    }\n",
       "\n",
       "    .dataframe tbody tr th {\n",
       "        vertical-align: top;\n",
       "    }\n",
       "\n",
       "    .dataframe thead th {\n",
       "        text-align: right;\n",
       "    }\n",
       "</style>\n",
       "<table border=\"1\" class=\"dataframe\">\n",
       "  <thead>\n",
       "    <tr style=\"text-align: right;\">\n",
       "      <th></th>\n",
       "      <th>reg_preference_for_trad</th>\n",
       "      <th>latest_query_time</th>\n",
       "      <th>loans_latest_time</th>\n",
       "    </tr>\n",
       "  </thead>\n",
       "  <tbody>\n",
       "    <tr>\n",
       "      <th>count</th>\n",
       "      <td>4752</td>\n",
       "      <td>4450</td>\n",
       "      <td>4457</td>\n",
       "    </tr>\n",
       "    <tr>\n",
       "      <th>unique</th>\n",
       "      <td>5</td>\n",
       "      <td>207</td>\n",
       "      <td>232</td>\n",
       "    </tr>\n",
       "    <tr>\n",
       "      <th>top</th>\n",
       "      <td>一线城市</td>\n",
       "      <td>2018-04-14</td>\n",
       "      <td>2018-05-03</td>\n",
       "    </tr>\n",
       "    <tr>\n",
       "      <th>freq</th>\n",
       "      <td>3403</td>\n",
       "      <td>423</td>\n",
       "      <td>134</td>\n",
       "    </tr>\n",
       "  </tbody>\n",
       "</table>\n",
       "</div>"
      ],
      "text/plain": [
       "       reg_preference_for_trad latest_query_time loans_latest_time\n",
       "count                     4752              4450              4457\n",
       "unique                       5               207               232\n",
       "top                       一线城市        2018-04-14        2018-05-03\n",
       "freq                      3403               423               134"
      ]
     },
     "execution_count": 14,
     "metadata": {},
     "output_type": "execute_result"
    }
   ],
   "source": [
    "data_obj.describe()"
   ]
  },
  {
   "cell_type": "code",
   "execution_count": 15,
   "metadata": {},
   "outputs": [
    {
     "data": {
      "text/html": [
       "<div>\n",
       "<style scoped>\n",
       "    .dataframe tbody tr th:only-of-type {\n",
       "        vertical-align: middle;\n",
       "    }\n",
       "\n",
       "    .dataframe tbody tr th {\n",
       "        vertical-align: top;\n",
       "    }\n",
       "\n",
       "    .dataframe thead th {\n",
       "        text-align: right;\n",
       "    }\n",
       "</style>\n",
       "<table border=\"1\" class=\"dataframe\">\n",
       "  <thead>\n",
       "    <tr style=\"text-align: right;\">\n",
       "      <th></th>\n",
       "      <th>reg_preference_for_trad</th>\n",
       "      <th>latest_query_time</th>\n",
       "      <th>loans_latest_time</th>\n",
       "    </tr>\n",
       "  </thead>\n",
       "  <tbody>\n",
       "    <tr>\n",
       "      <th>count</th>\n",
       "      <td>4752</td>\n",
       "      <td>4450</td>\n",
       "      <td>4457</td>\n",
       "    </tr>\n",
       "    <tr>\n",
       "      <th>unique</th>\n",
       "      <td>5</td>\n",
       "      <td>207</td>\n",
       "      <td>232</td>\n",
       "    </tr>\n",
       "    <tr>\n",
       "      <th>top</th>\n",
       "      <td>一线城市</td>\n",
       "      <td>2018-04-14</td>\n",
       "      <td>2018-05-03</td>\n",
       "    </tr>\n",
       "    <tr>\n",
       "      <th>freq</th>\n",
       "      <td>3403</td>\n",
       "      <td>423</td>\n",
       "      <td>134</td>\n",
       "    </tr>\n",
       "  </tbody>\n",
       "</table>\n",
       "</div>"
      ],
      "text/plain": [
       "       reg_preference_for_trad latest_query_time loans_latest_time\n",
       "count                     4752              4450              4457\n",
       "unique                       5               207               232\n",
       "top                       一线城市        2018-04-14        2018-05-03\n",
       "freq                      3403               423               134"
      ]
     },
     "execution_count": 15,
     "metadata": {},
     "output_type": "execute_result"
    }
   ],
   "source": [
    "#每个object列中的唯一类数\n",
    "data.describe(include=[np.object])"
   ]
  },
  {
   "cell_type": "code",
   "execution_count": 16,
   "metadata": {},
   "outputs": [
    {
     "name": "stdout",
     "output_type": "stream",
     "text": [
      "一线城市    3403\n",
      "三线城市    1064\n",
      "境外       150\n",
      "二线城市     131\n",
      "其他城市       4\n",
      "Name: reg_preference_for_trad, dtype: int64\n"
     ]
    }
   ],
   "source": [
    "print(data.reg_preference_for_trad.value_counts())"
   ]
  },
  {
   "cell_type": "code",
   "execution_count": 17,
   "metadata": {
    "collapsed": true
   },
   "outputs": [],
   "source": [
    "data_add_list = [\"reg_preference_for_trad\",\"latest_query_time\",\"latest_query_time\"]\n",
    "data_add = data[data_add_list]\n",
    "# data.drop([data_add_list], axis=1, inplace=True)"
   ]
  },
  {
   "cell_type": "markdown",
   "metadata": {},
   "source": [
    "## 2.2 检测缺失值"
   ]
  },
  {
   "cell_type": "code",
   "execution_count": 18,
   "metadata": {
    "collapsed": true
   },
   "outputs": [],
   "source": [
    "# 按列计算缺失值\n",
    "def missing_values_table(df):\n",
    "        mis_val = df.isnull().sum()\n",
    "        mis_val_percent = 100 * df.isnull().sum() / len(df)\n",
    "        mis_val_table = pd.concat([mis_val, mis_val_percent], axis=1)\n",
    "        mis_val_table_ren_columns = mis_val_table.rename(\n",
    "        columns = {0 : 'Missing Values', 1 : '% of Total Values'})\n",
    "        # 按缺失降序的百分比对表进行排序\n",
    "        mis_val_table_ren_columns = mis_val_table_ren_columns[\n",
    "            mis_val_table_ren_columns.iloc[:,1] != 0].sort_values(\n",
    "        '% of Total Values', ascending=False).round(1)\n",
    "        # 输出主要信息\n",
    "        print (\"Your selected dataframe has \" + str(df.shape[1]) + \" columns.\\n\"      \n",
    "            \"There are \" + str(mis_val_table_ren_columns.shape[0]) +\n",
    "              \" columns that have missing values.\")\n",
    "        # 返回缺失值的列表\n",
    "        return mis_val_table_ren_columns"
   ]
  },
  {
   "cell_type": "code",
   "execution_count": 19,
   "metadata": {},
   "outputs": [
    {
     "name": "stdout",
     "output_type": "stream",
     "text": [
      "Your selected dataframe has 84 columns.\n",
      "There are 72 columns that have missing values.\n"
     ]
    },
    {
     "data": {
      "text/html": [
       "<div>\n",
       "<style scoped>\n",
       "    .dataframe tbody tr th:only-of-type {\n",
       "        vertical-align: middle;\n",
       "    }\n",
       "\n",
       "    .dataframe tbody tr th {\n",
       "        vertical-align: top;\n",
       "    }\n",
       "\n",
       "    .dataframe thead th {\n",
       "        text-align: right;\n",
       "    }\n",
       "</style>\n",
       "<table border=\"1\" class=\"dataframe\">\n",
       "  <thead>\n",
       "    <tr style=\"text-align: right;\">\n",
       "      <th></th>\n",
       "      <th>Missing Values</th>\n",
       "      <th>% of Total Values</th>\n",
       "    </tr>\n",
       "  </thead>\n",
       "  <tbody>\n",
       "    <tr>\n",
       "      <th>cross_consume_count_last_1_month</th>\n",
       "      <td>426</td>\n",
       "      <td>9.0</td>\n",
       "    </tr>\n",
       "    <tr>\n",
       "      <th>query_sum_count</th>\n",
       "      <td>304</td>\n",
       "      <td>6.4</td>\n",
       "    </tr>\n",
       "    <tr>\n",
       "      <th>latest_three_month_apply</th>\n",
       "      <td>304</td>\n",
       "      <td>6.4</td>\n",
       "    </tr>\n",
       "    <tr>\n",
       "      <th>latest_one_month_apply</th>\n",
       "      <td>304</td>\n",
       "      <td>6.4</td>\n",
       "    </tr>\n",
       "    <tr>\n",
       "      <th>latest_query_time</th>\n",
       "      <td>304</td>\n",
       "      <td>6.4</td>\n",
       "    </tr>\n",
       "    <tr>\n",
       "      <th>query_cash_count</th>\n",
       "      <td>304</td>\n",
       "      <td>6.4</td>\n",
       "    </tr>\n",
       "    <tr>\n",
       "      <th>query_finance_count</th>\n",
       "      <td>304</td>\n",
       "      <td>6.4</td>\n",
       "    </tr>\n",
       "    <tr>\n",
       "      <th>query_org_count</th>\n",
       "      <td>304</td>\n",
       "      <td>6.4</td>\n",
       "    </tr>\n",
       "    <tr>\n",
       "      <th>apply_credibility</th>\n",
       "      <td>304</td>\n",
       "      <td>6.4</td>\n",
       "    </tr>\n",
       "    <tr>\n",
       "      <th>apply_score</th>\n",
       "      <td>304</td>\n",
       "      <td>6.4</td>\n",
       "    </tr>\n",
       "  </tbody>\n",
       "</table>\n",
       "</div>"
      ],
      "text/plain": [
       "                                  Missing Values  % of Total Values\n",
       "cross_consume_count_last_1_month             426                9.0\n",
       "query_sum_count                              304                6.4\n",
       "latest_three_month_apply                     304                6.4\n",
       "latest_one_month_apply                       304                6.4\n",
       "latest_query_time                            304                6.4\n",
       "query_cash_count                             304                6.4\n",
       "query_finance_count                          304                6.4\n",
       "query_org_count                              304                6.4\n",
       "apply_credibility                            304                6.4\n",
       "apply_score                                  304                6.4"
      ]
     },
     "execution_count": 19,
     "metadata": {},
     "output_type": "execute_result"
    }
   ],
   "source": [
    "#缺失值统计\n",
    "missing_values = missing_values_table(data)\n",
    "missing_values.head(10)"
   ]
  },
  {
   "cell_type": "markdown",
   "metadata": {},
   "source": [
    "### 缺失值处理"
   ]
  },
  {
   "cell_type": "code",
   "execution_count": 20,
   "metadata": {
    "collapsed": true
   },
   "outputs": [],
   "source": [
    "#数值型 缺失值处理\n",
    "from sklearn.preprocessing import Imputer\n",
    "\n",
    "imputer = Imputer(strategy='mean')\n",
    "num = imputer.fit_transform(data_num)\n",
    "data_num = pd.DataFrame(num, columns=data_num.columns)"
   ]
  },
  {
   "cell_type": "code",
   "execution_count": 21,
   "metadata": {
    "collapsed": true
   },
   "outputs": [],
   "source": [
    "#标签型 缺失值处理\n",
    "data_obj.ffill(inplace=True)"
   ]
  },
  {
   "cell_type": "markdown",
   "metadata": {},
   "source": [
    "### 数值化\n",
    "+ 标签编码（两个特征）\n",
    "+ 独热编码（两个以上特征）"
   ]
  },
  {
   "cell_type": "code",
   "execution_count": 22,
   "metadata": {
    "collapsed": true
   },
   "outputs": [],
   "source": [
    "# 标签化 处理”reg_preference_for_trad“\n",
    "from sklearn.preprocessing import LabelBinarizer\n",
    "\n",
    "encoder = LabelBinarizer()\n",
    "reg_preference_onehot = encoder.fit_transform(data_obj['reg_preference_for_trad'])\n",
    "data_obj.drop(['reg_preference_for_trad'], axis=1, inplace=True)\n",
    "\n",
    "\n",
    "reg_preference_data = pd.DataFrame(reg_preference_onehot, columns=encoder.classes_)\n",
    "data_obj = pd.concat([data_obj, reg_preference_data], axis=1)"
   ]
  },
  {
   "cell_type": "code",
   "execution_count": 23,
   "metadata": {
    "collapsed": true
   },
   "outputs": [],
   "source": [
    "# 处理 latest_query_time 和 loans_latest_time 特征\n",
    "\n",
    "data_obj['latest_query_time'] = pd.to_datetime(data_obj['latest_query_time'])\n",
    "data_obj['latest_query_time_month'] = data_obj['latest_query_time'].dt.month\n",
    "data_obj['latest_query_time_weekday'] = data_obj['latest_query_time'].dt.weekday\n",
    "\n",
    "data_obj['loans_latest_time'] = pd.to_datetime(data_obj['loans_latest_time'])\n",
    "data_obj['loans_latest_time_month'] = data_obj['loans_latest_time'].dt.month\n",
    "data_obj['loans_latest_time_weekday'] = data_obj['loans_latest_time'].dt.weekday\n",
    "\n",
    "data_obj = data_obj.drop(['latest_query_time', 'loans_latest_time'], axis=1)"
   ]
  },
  {
   "cell_type": "code",
   "execution_count": 24,
   "metadata": {},
   "outputs": [
    {
     "name": "stdout",
     "output_type": "stream",
     "text": [
      "   一线城市  三线城市  二线城市  其他城市  境外  latest_query_time_month  \\\n",
      "0     1     0     0     0   0                        4   \n",
      "1     1     0     0     0   0                        5   \n",
      "2     1     0     0     0   0                        5   \n",
      "3     0     1     0     0   0                        5   \n",
      "4     1     0     0     0   0                        4   \n",
      "\n",
      "   latest_query_time_weekday  loans_latest_time_month  \\\n",
      "0                          2                        4   \n",
      "1                          3                        5   \n",
      "2                          5                        5   \n",
      "3                          5                        5   \n",
      "4                          6                        1   \n",
      "\n",
      "   loans_latest_time_weekday  \n",
      "0                          3  \n",
      "1                          5  \n",
      "2                          1  \n",
      "3                          3  \n",
      "4                          6  \n"
     ]
    }
   ],
   "source": [
    "print(data_obj.head(5))"
   ]
  },
  {
   "cell_type": "code",
   "execution_count": 25,
   "metadata": {},
   "outputs": [
    {
     "name": "stdout",
     "output_type": "stream",
     "text": [
      "      custid  low_volume_percent  middle_volume_percent  \\\n",
      "0  2791858.0                0.01                   0.99   \n",
      "1   534047.0                0.02                   0.94   \n",
      "2  2849787.0                0.04                   0.96   \n",
      "3  1809708.0                0.00                   0.96   \n",
      "4  2499829.0                0.01                   0.99   \n",
      "\n",
      "   take_amount_in_later_12_month_highest  trans_amount_increase_rate_lately  \\\n",
      "0                                    0.0                               0.90   \n",
      "1                                 2000.0                               1.28   \n",
      "2                                    0.0                               1.00   \n",
      "3                                 2000.0                               0.13   \n",
      "4                                    0.0                               0.46   \n",
      "\n",
      "   trans_activity_month  trans_activity_day  transd_mcc  \\\n",
      "0                  0.55               0.313        17.0   \n",
      "1                  1.00               0.458        19.0   \n",
      "2                  1.00               0.114        13.0   \n",
      "3                  0.57               0.777        22.0   \n",
      "4                  1.00               0.175        13.0   \n",
      "\n",
      "   trans_days_interval_filter  trans_days_interval  ...  loans_max_limit  \\\n",
      "0                        27.0                 26.0  ...           2900.0   \n",
      "1                        30.0                 14.0  ...           3500.0   \n",
      "2                        68.0                 22.0  ...           1600.0   \n",
      "3                        14.0                  6.0  ...           3200.0   \n",
      "4                        66.0                 42.0  ...           2300.0   \n",
      "\n",
      "   loans_avg_limit  consfin_credit_limit  consfin_credibility  \\\n",
      "0           1688.0                1200.0                 75.0   \n",
      "1           1758.0               15100.0                 80.0   \n",
      "2           1250.0                4200.0                 87.0   \n",
      "3           1541.0               16300.0                 80.0   \n",
      "4           1630.0                8300.0                 79.0   \n",
      "\n",
      "   consfin_org_count_current  consfin_product_count  consfin_max_limit  \\\n",
      "0                        1.0                    2.0             1200.0   \n",
      "1                        5.0                    6.0            22800.0   \n",
      "2                        1.0                    1.0             4200.0   \n",
      "3                        5.0                    5.0            30000.0   \n",
      "4                        2.0                    2.0             8400.0   \n",
      "\n",
      "   consfin_avg_limit  latest_query_day  loans_latest_day  \n",
      "0             1200.0              12.0              18.0  \n",
      "1             9360.0               4.0               2.0  \n",
      "2             4200.0               2.0               6.0  \n",
      "3            12180.0               2.0               4.0  \n",
      "4             8250.0              22.0             120.0  \n",
      "\n",
      "[5 rows x 81 columns]\n"
     ]
    }
   ],
   "source": [
    "print(data_num.head(5))"
   ]
  },
  {
   "cell_type": "markdown",
   "metadata": {},
   "source": [
    "## 2.3 异常值"
   ]
  },
  {
   "cell_type": "code",
   "execution_count": 26,
   "metadata": {
    "scrolled": true
   },
   "outputs": [
    {
     "data": {
      "text/html": [
       "<div>\n",
       "<style scoped>\n",
       "    .dataframe tbody tr th:only-of-type {\n",
       "        vertical-align: middle;\n",
       "    }\n",
       "\n",
       "    .dataframe tbody tr th {\n",
       "        vertical-align: top;\n",
       "    }\n",
       "\n",
       "    .dataframe thead th {\n",
       "        text-align: right;\n",
       "    }\n",
       "</style>\n",
       "<table border=\"1\" class=\"dataframe\">\n",
       "  <thead>\n",
       "    <tr style=\"text-align: right;\">\n",
       "      <th></th>\n",
       "      <th>custid</th>\n",
       "      <th>low_volume_percent</th>\n",
       "      <th>middle_volume_percent</th>\n",
       "      <th>take_amount_in_later_12_month_highest</th>\n",
       "      <th>trans_amount_increase_rate_lately</th>\n",
       "      <th>trans_activity_month</th>\n",
       "      <th>trans_activity_day</th>\n",
       "      <th>transd_mcc</th>\n",
       "      <th>trans_days_interval_filter</th>\n",
       "      <th>trans_days_interval</th>\n",
       "      <th>...</th>\n",
       "      <th>loans_max_limit</th>\n",
       "      <th>loans_avg_limit</th>\n",
       "      <th>consfin_credit_limit</th>\n",
       "      <th>consfin_credibility</th>\n",
       "      <th>consfin_org_count_current</th>\n",
       "      <th>consfin_product_count</th>\n",
       "      <th>consfin_max_limit</th>\n",
       "      <th>consfin_avg_limit</th>\n",
       "      <th>latest_query_day</th>\n",
       "      <th>loans_latest_day</th>\n",
       "    </tr>\n",
       "  </thead>\n",
       "  <tbody>\n",
       "    <tr>\n",
       "      <th>count</th>\n",
       "      <td>4.754000e+03</td>\n",
       "      <td>4752.000000</td>\n",
       "      <td>4752.000000</td>\n",
       "      <td>4754.000000</td>\n",
       "      <td>4751.000000</td>\n",
       "      <td>4752.000000</td>\n",
       "      <td>4752.000000</td>\n",
       "      <td>4752.000000</td>\n",
       "      <td>4746.000000</td>\n",
       "      <td>4752.000000</td>\n",
       "      <td>...</td>\n",
       "      <td>4457.000000</td>\n",
       "      <td>4457.000000</td>\n",
       "      <td>4457.000000</td>\n",
       "      <td>4457.000000</td>\n",
       "      <td>4457.000000</td>\n",
       "      <td>4457.000000</td>\n",
       "      <td>4457.000000</td>\n",
       "      <td>4457.000000</td>\n",
       "      <td>4450.000000</td>\n",
       "      <td>4457.000000</td>\n",
       "    </tr>\n",
       "    <tr>\n",
       "      <th>mean</th>\n",
       "      <td>1.690993e+06</td>\n",
       "      <td>0.021806</td>\n",
       "      <td>0.901294</td>\n",
       "      <td>1940.197728</td>\n",
       "      <td>14.160674</td>\n",
       "      <td>0.804411</td>\n",
       "      <td>0.365425</td>\n",
       "      <td>17.502946</td>\n",
       "      <td>29.029920</td>\n",
       "      <td>21.751263</td>\n",
       "      <td>...</td>\n",
       "      <td>3390.038142</td>\n",
       "      <td>1820.357864</td>\n",
       "      <td>9187.009199</td>\n",
       "      <td>76.042630</td>\n",
       "      <td>4.732331</td>\n",
       "      <td>5.227507</td>\n",
       "      <td>16153.690823</td>\n",
       "      <td>8007.696881</td>\n",
       "      <td>24.112809</td>\n",
       "      <td>55.181512</td>\n",
       "    </tr>\n",
       "    <tr>\n",
       "      <th>std</th>\n",
       "      <td>1.034235e+06</td>\n",
       "      <td>0.041527</td>\n",
       "      <td>0.144856</td>\n",
       "      <td>3923.971494</td>\n",
       "      <td>694.180473</td>\n",
       "      <td>0.196920</td>\n",
       "      <td>0.170196</td>\n",
       "      <td>4.475616</td>\n",
       "      <td>22.722432</td>\n",
       "      <td>16.474916</td>\n",
       "      <td>...</td>\n",
       "      <td>1474.206546</td>\n",
       "      <td>583.418291</td>\n",
       "      <td>7371.257043</td>\n",
       "      <td>14.536819</td>\n",
       "      <td>2.974596</td>\n",
       "      <td>3.409292</td>\n",
       "      <td>14301.037628</td>\n",
       "      <td>5679.418585</td>\n",
       "      <td>37.725724</td>\n",
       "      <td>53.486408</td>\n",
       "    </tr>\n",
       "    <tr>\n",
       "      <th>min</th>\n",
       "      <td>1.140000e+02</td>\n",
       "      <td>0.000000</td>\n",
       "      <td>0.000000</td>\n",
       "      <td>0.000000</td>\n",
       "      <td>0.000000</td>\n",
       "      <td>0.120000</td>\n",
       "      <td>0.033000</td>\n",
       "      <td>2.000000</td>\n",
       "      <td>0.000000</td>\n",
       "      <td>4.000000</td>\n",
       "      <td>...</td>\n",
       "      <td>0.000000</td>\n",
       "      <td>0.000000</td>\n",
       "      <td>0.000000</td>\n",
       "      <td>0.000000</td>\n",
       "      <td>0.000000</td>\n",
       "      <td>0.000000</td>\n",
       "      <td>0.000000</td>\n",
       "      <td>0.000000</td>\n",
       "      <td>-2.000000</td>\n",
       "      <td>-2.000000</td>\n",
       "    </tr>\n",
       "    <tr>\n",
       "      <th>25%</th>\n",
       "      <td>7.593358e+05</td>\n",
       "      <td>0.010000</td>\n",
       "      <td>0.880000</td>\n",
       "      <td>0.000000</td>\n",
       "      <td>0.615000</td>\n",
       "      <td>0.670000</td>\n",
       "      <td>0.233000</td>\n",
       "      <td>15.000000</td>\n",
       "      <td>16.000000</td>\n",
       "      <td>12.000000</td>\n",
       "      <td>...</td>\n",
       "      <td>2300.000000</td>\n",
       "      <td>1535.000000</td>\n",
       "      <td>4800.000000</td>\n",
       "      <td>77.000000</td>\n",
       "      <td>2.000000</td>\n",
       "      <td>3.000000</td>\n",
       "      <td>7800.000000</td>\n",
       "      <td>4737.000000</td>\n",
       "      <td>5.000000</td>\n",
       "      <td>10.000000</td>\n",
       "    </tr>\n",
       "    <tr>\n",
       "      <th>50%</th>\n",
       "      <td>1.634942e+06</td>\n",
       "      <td>0.010000</td>\n",
       "      <td>0.960000</td>\n",
       "      <td>500.000000</td>\n",
       "      <td>0.970000</td>\n",
       "      <td>0.860000</td>\n",
       "      <td>0.350000</td>\n",
       "      <td>17.000000</td>\n",
       "      <td>23.000000</td>\n",
       "      <td>17.000000</td>\n",
       "      <td>...</td>\n",
       "      <td>3100.000000</td>\n",
       "      <td>1810.000000</td>\n",
       "      <td>7700.000000</td>\n",
       "      <td>79.000000</td>\n",
       "      <td>4.000000</td>\n",
       "      <td>5.000000</td>\n",
       "      <td>13800.000000</td>\n",
       "      <td>7050.000000</td>\n",
       "      <td>14.000000</td>\n",
       "      <td>36.000000</td>\n",
       "    </tr>\n",
       "    <tr>\n",
       "      <th>75%</th>\n",
       "      <td>2.597905e+06</td>\n",
       "      <td>0.020000</td>\n",
       "      <td>0.990000</td>\n",
       "      <td>2000.000000</td>\n",
       "      <td>1.600000</td>\n",
       "      <td>1.000000</td>\n",
       "      <td>0.480000</td>\n",
       "      <td>20.000000</td>\n",
       "      <td>32.000000</td>\n",
       "      <td>27.000000</td>\n",
       "      <td>...</td>\n",
       "      <td>4300.000000</td>\n",
       "      <td>2100.000000</td>\n",
       "      <td>11700.000000</td>\n",
       "      <td>80.000000</td>\n",
       "      <td>7.000000</td>\n",
       "      <td>7.000000</td>\n",
       "      <td>20400.000000</td>\n",
       "      <td>10000.000000</td>\n",
       "      <td>24.000000</td>\n",
       "      <td>91.000000</td>\n",
       "    </tr>\n",
       "    <tr>\n",
       "      <th>max</th>\n",
       "      <td>4.004694e+06</td>\n",
       "      <td>1.000000</td>\n",
       "      <td>1.000000</td>\n",
       "      <td>68000.000000</td>\n",
       "      <td>47596.740000</td>\n",
       "      <td>1.000000</td>\n",
       "      <td>0.941000</td>\n",
       "      <td>42.000000</td>\n",
       "      <td>285.000000</td>\n",
       "      <td>234.000000</td>\n",
       "      <td>...</td>\n",
       "      <td>10000.000000</td>\n",
       "      <td>6900.000000</td>\n",
       "      <td>87100.000000</td>\n",
       "      <td>87.000000</td>\n",
       "      <td>18.000000</td>\n",
       "      <td>20.000000</td>\n",
       "      <td>266400.000000</td>\n",
       "      <td>82800.000000</td>\n",
       "      <td>360.000000</td>\n",
       "      <td>323.000000</td>\n",
       "    </tr>\n",
       "  </tbody>\n",
       "</table>\n",
       "<p>8 rows × 81 columns</p>\n",
       "</div>"
      ],
      "text/plain": [
       "             custid  low_volume_percent  middle_volume_percent  \\\n",
       "count  4.754000e+03         4752.000000            4752.000000   \n",
       "mean   1.690993e+06            0.021806               0.901294   \n",
       "std    1.034235e+06            0.041527               0.144856   \n",
       "min    1.140000e+02            0.000000               0.000000   \n",
       "25%    7.593358e+05            0.010000               0.880000   \n",
       "50%    1.634942e+06            0.010000               0.960000   \n",
       "75%    2.597905e+06            0.020000               0.990000   \n",
       "max    4.004694e+06            1.000000               1.000000   \n",
       "\n",
       "       take_amount_in_later_12_month_highest  \\\n",
       "count                            4754.000000   \n",
       "mean                             1940.197728   \n",
       "std                              3923.971494   \n",
       "min                                 0.000000   \n",
       "25%                                 0.000000   \n",
       "50%                               500.000000   \n",
       "75%                              2000.000000   \n",
       "max                             68000.000000   \n",
       "\n",
       "       trans_amount_increase_rate_lately  trans_activity_month  \\\n",
       "count                        4751.000000           4752.000000   \n",
       "mean                           14.160674              0.804411   \n",
       "std                           694.180473              0.196920   \n",
       "min                             0.000000              0.120000   \n",
       "25%                             0.615000              0.670000   \n",
       "50%                             0.970000              0.860000   \n",
       "75%                             1.600000              1.000000   \n",
       "max                         47596.740000              1.000000   \n",
       "\n",
       "       trans_activity_day   transd_mcc  trans_days_interval_filter  \\\n",
       "count         4752.000000  4752.000000                 4746.000000   \n",
       "mean             0.365425    17.502946                   29.029920   \n",
       "std              0.170196     4.475616                   22.722432   \n",
       "min              0.033000     2.000000                    0.000000   \n",
       "25%              0.233000    15.000000                   16.000000   \n",
       "50%              0.350000    17.000000                   23.000000   \n",
       "75%              0.480000    20.000000                   32.000000   \n",
       "max              0.941000    42.000000                  285.000000   \n",
       "\n",
       "       trans_days_interval  ...  loans_max_limit  loans_avg_limit  \\\n",
       "count          4752.000000  ...      4457.000000      4457.000000   \n",
       "mean             21.751263  ...      3390.038142      1820.357864   \n",
       "std              16.474916  ...      1474.206546       583.418291   \n",
       "min               4.000000  ...         0.000000         0.000000   \n",
       "25%              12.000000  ...      2300.000000      1535.000000   \n",
       "50%              17.000000  ...      3100.000000      1810.000000   \n",
       "75%              27.000000  ...      4300.000000      2100.000000   \n",
       "max             234.000000  ...     10000.000000      6900.000000   \n",
       "\n",
       "       consfin_credit_limit  consfin_credibility  consfin_org_count_current  \\\n",
       "count           4457.000000          4457.000000                4457.000000   \n",
       "mean            9187.009199            76.042630                   4.732331   \n",
       "std             7371.257043            14.536819                   2.974596   \n",
       "min                0.000000             0.000000                   0.000000   \n",
       "25%             4800.000000            77.000000                   2.000000   \n",
       "50%             7700.000000            79.000000                   4.000000   \n",
       "75%            11700.000000            80.000000                   7.000000   \n",
       "max            87100.000000            87.000000                  18.000000   \n",
       "\n",
       "       consfin_product_count  consfin_max_limit  consfin_avg_limit  \\\n",
       "count            4457.000000        4457.000000        4457.000000   \n",
       "mean                5.227507       16153.690823        8007.696881   \n",
       "std                 3.409292       14301.037628        5679.418585   \n",
       "min                 0.000000           0.000000           0.000000   \n",
       "25%                 3.000000        7800.000000        4737.000000   \n",
       "50%                 5.000000       13800.000000        7050.000000   \n",
       "75%                 7.000000       20400.000000       10000.000000   \n",
       "max                20.000000      266400.000000       82800.000000   \n",
       "\n",
       "       latest_query_day  loans_latest_day  \n",
       "count       4450.000000       4457.000000  \n",
       "mean          24.112809         55.181512  \n",
       "std           37.725724         53.486408  \n",
       "min           -2.000000         -2.000000  \n",
       "25%            5.000000         10.000000  \n",
       "50%           14.000000         36.000000  \n",
       "75%           24.000000         91.000000  \n",
       "max          360.000000        323.000000  \n",
       "\n",
       "[8 rows x 81 columns]"
      ]
     },
     "execution_count": 26,
     "metadata": {},
     "output_type": "execute_result"
    }
   ],
   "source": [
    "data.describe()"
   ]
  },
  {
   "cell_type": "code",
   "execution_count": 27,
   "metadata": {
    "collapsed": true
   },
   "outputs": [],
   "source": [
    "# 定义去除异常值函数\n",
    "def drop_Outlier(ftr,df):\n",
    "    upper_q = df[ftr].quantile(0.75)\n",
    "    lower_q = df[ftr].quantile(0.25)\n",
    "    q_int = upper_q - lower_q\n",
    "    k = 1.5\n",
    "    df[df[ftr]>lower_q - k * q_int][df[ftr] < upper_q + k*q_int]"
   ]
  },
  {
   "cell_type": "code",
   "execution_count": 28,
   "metadata": {
    "collapsed": true
   },
   "outputs": [],
   "source": [
    "# 去除data_num中的异常值\n",
    "for i in data_num.columns:\n",
    "    drop_Outlier(i,data_num)"
   ]
  },
  {
   "cell_type": "code",
   "execution_count": 29,
   "metadata": {
    "collapsed": true
   },
   "outputs": [],
   "source": [
    "# 去除data_obj中的异常值\n",
    "for i in data_obj.columns:\n",
    "    drop_Outlier(i,data_obj)"
   ]
  },
  {
   "cell_type": "markdown",
   "metadata": {
    "collapsed": true
   },
   "source": [
    "## 2.4 合并数据"
   ]
  },
  {
   "cell_type": "code",
   "execution_count": 30,
   "metadata": {},
   "outputs": [
    {
     "data": {
      "text/html": [
       "<div>\n",
       "<style scoped>\n",
       "    .dataframe tbody tr th:only-of-type {\n",
       "        vertical-align: middle;\n",
       "    }\n",
       "\n",
       "    .dataframe tbody tr th {\n",
       "        vertical-align: top;\n",
       "    }\n",
       "\n",
       "    .dataframe thead th {\n",
       "        text-align: right;\n",
       "    }\n",
       "</style>\n",
       "<table border=\"1\" class=\"dataframe\">\n",
       "  <thead>\n",
       "    <tr style=\"text-align: right;\">\n",
       "      <th></th>\n",
       "      <th>custid</th>\n",
       "      <th>low_volume_percent</th>\n",
       "      <th>middle_volume_percent</th>\n",
       "      <th>take_amount_in_later_12_month_highest</th>\n",
       "      <th>trans_amount_increase_rate_lately</th>\n",
       "      <th>trans_activity_month</th>\n",
       "      <th>trans_activity_day</th>\n",
       "      <th>transd_mcc</th>\n",
       "      <th>trans_days_interval_filter</th>\n",
       "      <th>trans_days_interval</th>\n",
       "      <th>...</th>\n",
       "      <th>loans_latest_day</th>\n",
       "      <th>一线城市</th>\n",
       "      <th>三线城市</th>\n",
       "      <th>二线城市</th>\n",
       "      <th>其他城市</th>\n",
       "      <th>境外</th>\n",
       "      <th>latest_query_time_month</th>\n",
       "      <th>latest_query_time_weekday</th>\n",
       "      <th>loans_latest_time_month</th>\n",
       "      <th>loans_latest_time_weekday</th>\n",
       "    </tr>\n",
       "  </thead>\n",
       "  <tbody>\n",
       "    <tr>\n",
       "      <th>0</th>\n",
       "      <td>2791858.0</td>\n",
       "      <td>0.01</td>\n",
       "      <td>0.99</td>\n",
       "      <td>0.0</td>\n",
       "      <td>0.90</td>\n",
       "      <td>0.55</td>\n",
       "      <td>0.313</td>\n",
       "      <td>17.0</td>\n",
       "      <td>27.0</td>\n",
       "      <td>26.0</td>\n",
       "      <td>...</td>\n",
       "      <td>18.0</td>\n",
       "      <td>1</td>\n",
       "      <td>0</td>\n",
       "      <td>0</td>\n",
       "      <td>0</td>\n",
       "      <td>0</td>\n",
       "      <td>4</td>\n",
       "      <td>2</td>\n",
       "      <td>4</td>\n",
       "      <td>3</td>\n",
       "    </tr>\n",
       "    <tr>\n",
       "      <th>1</th>\n",
       "      <td>534047.0</td>\n",
       "      <td>0.02</td>\n",
       "      <td>0.94</td>\n",
       "      <td>2000.0</td>\n",
       "      <td>1.28</td>\n",
       "      <td>1.00</td>\n",
       "      <td>0.458</td>\n",
       "      <td>19.0</td>\n",
       "      <td>30.0</td>\n",
       "      <td>14.0</td>\n",
       "      <td>...</td>\n",
       "      <td>2.0</td>\n",
       "      <td>1</td>\n",
       "      <td>0</td>\n",
       "      <td>0</td>\n",
       "      <td>0</td>\n",
       "      <td>0</td>\n",
       "      <td>5</td>\n",
       "      <td>3</td>\n",
       "      <td>5</td>\n",
       "      <td>5</td>\n",
       "    </tr>\n",
       "    <tr>\n",
       "      <th>2</th>\n",
       "      <td>2849787.0</td>\n",
       "      <td>0.04</td>\n",
       "      <td>0.96</td>\n",
       "      <td>0.0</td>\n",
       "      <td>1.00</td>\n",
       "      <td>1.00</td>\n",
       "      <td>0.114</td>\n",
       "      <td>13.0</td>\n",
       "      <td>68.0</td>\n",
       "      <td>22.0</td>\n",
       "      <td>...</td>\n",
       "      <td>6.0</td>\n",
       "      <td>1</td>\n",
       "      <td>0</td>\n",
       "      <td>0</td>\n",
       "      <td>0</td>\n",
       "      <td>0</td>\n",
       "      <td>5</td>\n",
       "      <td>5</td>\n",
       "      <td>5</td>\n",
       "      <td>1</td>\n",
       "    </tr>\n",
       "    <tr>\n",
       "      <th>3</th>\n",
       "      <td>1809708.0</td>\n",
       "      <td>0.00</td>\n",
       "      <td>0.96</td>\n",
       "      <td>2000.0</td>\n",
       "      <td>0.13</td>\n",
       "      <td>0.57</td>\n",
       "      <td>0.777</td>\n",
       "      <td>22.0</td>\n",
       "      <td>14.0</td>\n",
       "      <td>6.0</td>\n",
       "      <td>...</td>\n",
       "      <td>4.0</td>\n",
       "      <td>0</td>\n",
       "      <td>1</td>\n",
       "      <td>0</td>\n",
       "      <td>0</td>\n",
       "      <td>0</td>\n",
       "      <td>5</td>\n",
       "      <td>5</td>\n",
       "      <td>5</td>\n",
       "      <td>3</td>\n",
       "    </tr>\n",
       "    <tr>\n",
       "      <th>4</th>\n",
       "      <td>2499829.0</td>\n",
       "      <td>0.01</td>\n",
       "      <td>0.99</td>\n",
       "      <td>0.0</td>\n",
       "      <td>0.46</td>\n",
       "      <td>1.00</td>\n",
       "      <td>0.175</td>\n",
       "      <td>13.0</td>\n",
       "      <td>66.0</td>\n",
       "      <td>42.0</td>\n",
       "      <td>...</td>\n",
       "      <td>120.0</td>\n",
       "      <td>1</td>\n",
       "      <td>0</td>\n",
       "      <td>0</td>\n",
       "      <td>0</td>\n",
       "      <td>0</td>\n",
       "      <td>4</td>\n",
       "      <td>6</td>\n",
       "      <td>1</td>\n",
       "      <td>6</td>\n",
       "    </tr>\n",
       "  </tbody>\n",
       "</table>\n",
       "<p>5 rows × 90 columns</p>\n",
       "</div>"
      ],
      "text/plain": [
       "      custid  low_volume_percent  middle_volume_percent  \\\n",
       "0  2791858.0                0.01                   0.99   \n",
       "1   534047.0                0.02                   0.94   \n",
       "2  2849787.0                0.04                   0.96   \n",
       "3  1809708.0                0.00                   0.96   \n",
       "4  2499829.0                0.01                   0.99   \n",
       "\n",
       "   take_amount_in_later_12_month_highest  trans_amount_increase_rate_lately  \\\n",
       "0                                    0.0                               0.90   \n",
       "1                                 2000.0                               1.28   \n",
       "2                                    0.0                               1.00   \n",
       "3                                 2000.0                               0.13   \n",
       "4                                    0.0                               0.46   \n",
       "\n",
       "   trans_activity_month  trans_activity_day  transd_mcc  \\\n",
       "0                  0.55               0.313        17.0   \n",
       "1                  1.00               0.458        19.0   \n",
       "2                  1.00               0.114        13.0   \n",
       "3                  0.57               0.777        22.0   \n",
       "4                  1.00               0.175        13.0   \n",
       "\n",
       "   trans_days_interval_filter  trans_days_interval  ...  loans_latest_day  \\\n",
       "0                        27.0                 26.0  ...              18.0   \n",
       "1                        30.0                 14.0  ...               2.0   \n",
       "2                        68.0                 22.0  ...               6.0   \n",
       "3                        14.0                  6.0  ...               4.0   \n",
       "4                        66.0                 42.0  ...             120.0   \n",
       "\n",
       "   一线城市  三线城市  二线城市  其他城市  境外  latest_query_time_month  \\\n",
       "0     1     0     0     0   0                        4   \n",
       "1     1     0     0     0   0                        5   \n",
       "2     1     0     0     0   0                        5   \n",
       "3     0     1     0     0   0                        5   \n",
       "4     1     0     0     0   0                        4   \n",
       "\n",
       "   latest_query_time_weekday  loans_latest_time_month  \\\n",
       "0                          2                        4   \n",
       "1                          3                        5   \n",
       "2                          5                        5   \n",
       "3                          5                        5   \n",
       "4                          6                        1   \n",
       "\n",
       "   loans_latest_time_weekday  \n",
       "0                          3  \n",
       "1                          5  \n",
       "2                          1  \n",
       "3                          3  \n",
       "4                          6  \n",
       "\n",
       "[5 rows x 90 columns]"
      ]
     },
     "execution_count": 30,
     "metadata": {},
     "output_type": "execute_result"
    }
   ],
   "source": [
    "data_new = pd.concat([data_num, data_obj], axis=1)\n",
    "data_new.head()"
   ]
  },
  {
   "cell_type": "code",
   "execution_count": 31,
   "metadata": {},
   "outputs": [
    {
     "name": "stdout",
     "output_type": "stream",
     "text": [
      "Training data shape:  (3327, 90)\n",
      "Tesing data shape:  (1427, 90)\n"
     ]
    }
   ],
   "source": [
    "#切分数据，测试集30%，训练集70%，随机种子设置为2018\n",
    "from sklearn.model_selection import train_test_split\n",
    "random_state = 2018\n",
    "train, test = train_test_split(data_new, test_size=0.3, random_state=random_state)\n",
    "print(\"Training data shape: \", train.shape)\n",
    "print(\"Tesing data shape: \", test.shape)"
   ]
  },
  {
   "cell_type": "markdown",
   "metadata": {},
   "source": [
    "# 三. 特征工程"
   ]
  },
  {
   "cell_type": "code",
   "execution_count": 32,
   "metadata": {
    "collapsed": true
   },
   "outputs": [],
   "source": [
    "#划分训练数据和训练结果\n",
    "y_train = train.status\n",
    "X_train = train.drop(\"status\", axis=1)\n",
    "#划分测试数据和测试结果\n",
    "y_test = test.status\n",
    "X_test = test.drop(\"status\", axis=1)"
   ]
  },
  {
   "cell_type": "code",
   "execution_count": 33,
   "metadata": {},
   "outputs": [
    {
     "data": {
      "text/html": [
       "<div>\n",
       "<style scoped>\n",
       "    .dataframe tbody tr th:only-of-type {\n",
       "        vertical-align: middle;\n",
       "    }\n",
       "\n",
       "    .dataframe tbody tr th {\n",
       "        vertical-align: top;\n",
       "    }\n",
       "\n",
       "    .dataframe thead th {\n",
       "        text-align: right;\n",
       "    }\n",
       "</style>\n",
       "<table border=\"1\" class=\"dataframe\">\n",
       "  <thead>\n",
       "    <tr style=\"text-align: right;\">\n",
       "      <th></th>\n",
       "      <th>custid</th>\n",
       "      <th>low_volume_percent</th>\n",
       "      <th>middle_volume_percent</th>\n",
       "      <th>take_amount_in_later_12_month_highest</th>\n",
       "      <th>trans_amount_increase_rate_lately</th>\n",
       "      <th>trans_activity_month</th>\n",
       "      <th>trans_activity_day</th>\n",
       "      <th>transd_mcc</th>\n",
       "      <th>trans_days_interval_filter</th>\n",
       "      <th>trans_days_interval</th>\n",
       "      <th>...</th>\n",
       "      <th>loans_latest_day</th>\n",
       "      <th>一线城市</th>\n",
       "      <th>三线城市</th>\n",
       "      <th>二线城市</th>\n",
       "      <th>其他城市</th>\n",
       "      <th>境外</th>\n",
       "      <th>latest_query_time_month</th>\n",
       "      <th>latest_query_time_weekday</th>\n",
       "      <th>loans_latest_time_month</th>\n",
       "      <th>loans_latest_time_weekday</th>\n",
       "    </tr>\n",
       "  </thead>\n",
       "  <tbody>\n",
       "    <tr>\n",
       "      <th>110</th>\n",
       "      <td>3302657.0</td>\n",
       "      <td>0.01</td>\n",
       "      <td>0.99</td>\n",
       "      <td>4000.0</td>\n",
       "      <td>0.96</td>\n",
       "      <td>1.00</td>\n",
       "      <td>0.405</td>\n",
       "      <td>16.0</td>\n",
       "      <td>29.0</td>\n",
       "      <td>28.0</td>\n",
       "      <td>...</td>\n",
       "      <td>9.0</td>\n",
       "      <td>1</td>\n",
       "      <td>0</td>\n",
       "      <td>0</td>\n",
       "      <td>0</td>\n",
       "      <td>0</td>\n",
       "      <td>5</td>\n",
       "      <td>4</td>\n",
       "      <td>4</td>\n",
       "      <td>2</td>\n",
       "    </tr>\n",
       "    <tr>\n",
       "      <th>3394</th>\n",
       "      <td>2733732.0</td>\n",
       "      <td>0.03</td>\n",
       "      <td>0.97</td>\n",
       "      <td>500.0</td>\n",
       "      <td>0.87</td>\n",
       "      <td>1.00</td>\n",
       "      <td>0.205</td>\n",
       "      <td>18.0</td>\n",
       "      <td>27.0</td>\n",
       "      <td>27.0</td>\n",
       "      <td>...</td>\n",
       "      <td>27.0</td>\n",
       "      <td>1</td>\n",
       "      <td>0</td>\n",
       "      <td>0</td>\n",
       "      <td>0</td>\n",
       "      <td>0</td>\n",
       "      <td>4</td>\n",
       "      <td>5</td>\n",
       "      <td>4</td>\n",
       "      <td>1</td>\n",
       "    </tr>\n",
       "    <tr>\n",
       "      <th>3052</th>\n",
       "      <td>2851871.0</td>\n",
       "      <td>0.02</td>\n",
       "      <td>0.86</td>\n",
       "      <td>0.0</td>\n",
       "      <td>1.98</td>\n",
       "      <td>0.70</td>\n",
       "      <td>0.205</td>\n",
       "      <td>18.0</td>\n",
       "      <td>53.0</td>\n",
       "      <td>33.0</td>\n",
       "      <td>...</td>\n",
       "      <td>137.0</td>\n",
       "      <td>1</td>\n",
       "      <td>0</td>\n",
       "      <td>0</td>\n",
       "      <td>0</td>\n",
       "      <td>0</td>\n",
       "      <td>5</td>\n",
       "      <td>4</td>\n",
       "      <td>12</td>\n",
       "      <td>3</td>\n",
       "    </tr>\n",
       "    <tr>\n",
       "      <th>490</th>\n",
       "      <td>63272.0</td>\n",
       "      <td>0.02</td>\n",
       "      <td>0.81</td>\n",
       "      <td>1000.0</td>\n",
       "      <td>1.49</td>\n",
       "      <td>0.73</td>\n",
       "      <td>0.555</td>\n",
       "      <td>23.0</td>\n",
       "      <td>15.0</td>\n",
       "      <td>8.0</td>\n",
       "      <td>...</td>\n",
       "      <td>51.0</td>\n",
       "      <td>0</td>\n",
       "      <td>1</td>\n",
       "      <td>0</td>\n",
       "      <td>0</td>\n",
       "      <td>0</td>\n",
       "      <td>4</td>\n",
       "      <td>1</td>\n",
       "      <td>3</td>\n",
       "      <td>5</td>\n",
       "    </tr>\n",
       "    <tr>\n",
       "      <th>1</th>\n",
       "      <td>534047.0</td>\n",
       "      <td>0.02</td>\n",
       "      <td>0.94</td>\n",
       "      <td>2000.0</td>\n",
       "      <td>1.28</td>\n",
       "      <td>1.00</td>\n",
       "      <td>0.458</td>\n",
       "      <td>19.0</td>\n",
       "      <td>30.0</td>\n",
       "      <td>14.0</td>\n",
       "      <td>...</td>\n",
       "      <td>2.0</td>\n",
       "      <td>1</td>\n",
       "      <td>0</td>\n",
       "      <td>0</td>\n",
       "      <td>0</td>\n",
       "      <td>0</td>\n",
       "      <td>5</td>\n",
       "      <td>3</td>\n",
       "      <td>5</td>\n",
       "      <td>5</td>\n",
       "    </tr>\n",
       "  </tbody>\n",
       "</table>\n",
       "<p>5 rows × 89 columns</p>\n",
       "</div>"
      ],
      "text/plain": [
       "         custid  low_volume_percent  middle_volume_percent  \\\n",
       "110   3302657.0                0.01                   0.99   \n",
       "3394  2733732.0                0.03                   0.97   \n",
       "3052  2851871.0                0.02                   0.86   \n",
       "490     63272.0                0.02                   0.81   \n",
       "1      534047.0                0.02                   0.94   \n",
       "\n",
       "      take_amount_in_later_12_month_highest  \\\n",
       "110                                  4000.0   \n",
       "3394                                  500.0   \n",
       "3052                                    0.0   \n",
       "490                                  1000.0   \n",
       "1                                    2000.0   \n",
       "\n",
       "      trans_amount_increase_rate_lately  trans_activity_month  \\\n",
       "110                                0.96                  1.00   \n",
       "3394                               0.87                  1.00   \n",
       "3052                               1.98                  0.70   \n",
       "490                                1.49                  0.73   \n",
       "1                                  1.28                  1.00   \n",
       "\n",
       "      trans_activity_day  transd_mcc  trans_days_interval_filter  \\\n",
       "110                0.405        16.0                        29.0   \n",
       "3394               0.205        18.0                        27.0   \n",
       "3052               0.205        18.0                        53.0   \n",
       "490                0.555        23.0                        15.0   \n",
       "1                  0.458        19.0                        30.0   \n",
       "\n",
       "      trans_days_interval  ...  loans_latest_day  一线城市  三线城市  二线城市  其他城市  境外  \\\n",
       "110                  28.0  ...               9.0     1     0     0     0   0   \n",
       "3394                 27.0  ...              27.0     1     0     0     0   0   \n",
       "3052                 33.0  ...             137.0     1     0     0     0   0   \n",
       "490                   8.0  ...              51.0     0     1     0     0   0   \n",
       "1                    14.0  ...               2.0     1     0     0     0   0   \n",
       "\n",
       "      latest_query_time_month  latest_query_time_weekday  \\\n",
       "110                         5                          4   \n",
       "3394                        4                          5   \n",
       "3052                        5                          4   \n",
       "490                         4                          1   \n",
       "1                           5                          3   \n",
       "\n",
       "      loans_latest_time_month  loans_latest_time_weekday  \n",
       "110                         4                          2  \n",
       "3394                        4                          1  \n",
       "3052                       12                          3  \n",
       "490                         3                          5  \n",
       "1                           5                          5  \n",
       "\n",
       "[5 rows x 89 columns]"
      ]
     },
     "execution_count": 33,
     "metadata": {},
     "output_type": "execute_result"
    }
   ],
   "source": [
    "X_train.head()"
   ]
  },
  {
   "cell_type": "code",
   "execution_count": 34,
   "metadata": {
    "collapsed": true
   },
   "outputs": [],
   "source": [
    "from sklearn.metrics import accuracy_score, roc_auc_score,recall_score,f1_score\n",
    "\n",
    "def model_metrics(clf, X_train, X_test, y_train, y_test):\n",
    "    # 预测\n",
    "    y_train_pred = clf.predict(X_train)\n",
    "    y_test_pred = clf.predict(X_test)\n",
    "    \n",
    "    y_train_proba = clf.predict_proba(X_train)[:,1]\n",
    "    y_test_proba = clf.predict_proba(X_test)[:,1]\n",
    "    \n",
    "    # 准确率\n",
    "    print('[准确率]', end = ' ')\n",
    "    print('训练集：', '%.4f'%accuracy_score(y_train, y_train_pred), end = ' ')\n",
    "    print('测试集：', '%.4f'%accuracy_score(y_test, y_test_pred))\n",
    "    \n",
    "    # auc取值：用roc_auc_score或auc\n",
    "    print('[auc值]', end = ' ')\n",
    "    print('训练集：', '%.4f'%roc_auc_score(y_train, y_train_proba), end = ' ')\n",
    "    print('测试集：', '%.4f'%roc_auc_score(y_test, y_test_proba))\n",
    "    \n",
    "#     # recall\n",
    "#     print('[recall值]', end = ' ')\n",
    "#     print('训练集：', '%.4f '%recall_score(y_train, y_train_proba), end = ' ')\n",
    "#     print('测试集：', '%.4f '%recall_score(y_test, y_test_proba))\n",
    "    \n",
    "#     # F1\n",
    "#     print('[F1值]', end = ' ')\n",
    "#     print('训练集：', '%.4f '%f1_score(y_train, y_train_proba), end = ' ')\n",
    "#     print('测试集：', '%.4f '%f1_score(y_test, y_test_proba))"
   ]
  },
  {
   "cell_type": "markdown",
   "metadata": {},
   "source": [
    "### 3.1 随机森林特征选择"
   ]
  },
  {
   "cell_type": "code",
   "execution_count": 35,
   "metadata": {},
   "outputs": [
    {
     "name": "stdout",
     "output_type": "stream",
     "text": [
      "袋外分数： 0.792605951307\n",
      "[准确率] 训练集： 1.0000 测试集： 0.7856\n",
      "[auc值] 训练集： 1.0000 测试集： 0.7614\n"
     ]
    }
   ],
   "source": [
    "from sklearn import metrics\n",
    "#随机森林\n",
    "from sklearn.ensemble import  RandomForestClassifier\n",
    "\n",
    "\n",
    "rf0 = RandomForestClassifier(n_estimators=1000, oob_score=True, random_state=2018)\n",
    "rf0.fit(X_train, y_train)\n",
    "print('袋外分数：', rf0.oob_score_)\n",
    "model_metrics(rf0, X_train, X_test, y_train, y_test)\n"
   ]
  },
  {
   "cell_type": "code",
   "execution_count": 36,
   "metadata": {},
   "outputs": [
    {
     "name": "stdout",
     "output_type": "stream",
     "text": [
      "trans_fail_top_count_enum_last_1_month    0.051107\n",
      "history_fail_fee                          0.048411\n",
      "loans_score                               0.036639\n",
      "apply_score                               0.028545\n",
      "loans_overdue_count                       0.024374\n",
      "latest_one_month_fail                     0.021188\n",
      "trans_amount_3_month                      0.016246\n",
      "trans_day_last_12_month                   0.015679\n",
      "max_cumulative_consume_later_1_month      0.015646\n",
      "repayment_capability                      0.015388\n",
      "dtype: float64\n"
     ]
    }
   ],
   "source": [
    "#特征贡献度排名\n",
    "featimp = pd.Series(rf0.feature_importances_, index=X_train.columns).sort_values(ascending=False)\n",
    "print(featimp.head(10))"
   ]
  },
  {
   "cell_type": "code",
   "execution_count": 37,
   "metadata": {},
   "outputs": [
    {
     "data": {
      "text/plain": [
       "(3327, 46)"
      ]
     },
     "execution_count": 37,
     "metadata": {},
     "output_type": "execute_result"
    }
   ],
   "source": [
    "threshold = 0.01\n",
    "data_index = list(X_train.columns[ rf0.feature_importances_ < threshold])\n",
    "X_train.drop(data_index,axis=1,inplace=True)\n",
    "X_train.shape"
   ]
  },
  {
   "cell_type": "code",
   "execution_count": 38,
   "metadata": {},
   "outputs": [
    {
     "data": {
      "text/plain": [
       "Index(['custid', 'trans_amount_increase_rate_lately', 'trans_activity_month',\n",
       "       'trans_activity_day', 'transd_mcc', 'trans_days_interval_filter',\n",
       "       'trans_days_interval', 'repayment_capability',\n",
       "       'number_of_trans_from_2011', 'first_transaction_time',\n",
       "       'historical_trans_amount', 'historical_trans_day', 'rank_trad_1_month',\n",
       "       'trans_amount_3_month', 'abs', 'avg_price_last_12_month',\n",
       "       'trans_top_time_last_1_month', 'trans_top_time_last_6_month',\n",
       "       'consume_top_time_last_1_month', 'consume_top_time_last_6_month',\n",
       "       'trans_fail_top_count_enum_last_1_month',\n",
       "       'trans_fail_top_count_enum_last_6_month',\n",
       "       'trans_fail_top_count_enum_last_12_month',\n",
       "       'max_cumulative_consume_later_1_month',\n",
       "       'pawns_auctions_trusts_consume_last_6_month', 'first_transaction_day',\n",
       "       'trans_day_last_12_month', 'apply_score', 'apply_credibility',\n",
       "       'loans_score', 'loans_count', 'loans_settle_count',\n",
       "       'loans_overdue_count', 'history_suc_fee', 'history_fail_fee',\n",
       "       'latest_one_month_fail', 'loans_long_time', 'loans_credit_limit',\n",
       "       'loans_max_limit', 'loans_avg_limit', 'consfin_credit_limit',\n",
       "       'consfin_credibility', 'consfin_max_limit', 'consfin_avg_limit',\n",
       "       'latest_query_day', 'loans_latest_day'],\n",
       "      dtype='object')"
      ]
     },
     "execution_count": 38,
     "metadata": {},
     "output_type": "execute_result"
    }
   ],
   "source": [
    "X_train.columns"
   ]
  },
  {
   "cell_type": "markdown",
   "metadata": {},
   "source": [
    "#### 用预测出的5个特征继续做"
   ]
  },
  {
   "cell_type": "code",
   "execution_count": 39,
   "metadata": {
    "collapsed": true
   },
   "outputs": [],
   "source": [
    "prediction_var = X_train.columns"
   ]
  },
  {
   "cell_type": "code",
   "execution_count": 40,
   "metadata": {
    "collapsed": true
   },
   "outputs": [],
   "source": [
    "#划分训练数据和训练结果\n",
    "X_train = train[prediction_var]\n",
    "y_train = train.status\n",
    "#划分测试数据和测试结果\n",
    "X_test = test[prediction_var]\n",
    "y_test = test.status"
   ]
  },
  {
   "cell_type": "code",
   "execution_count": 41,
   "metadata": {},
   "outputs": [
    {
     "name": "stdout",
     "output_type": "stream",
     "text": [
      "袋外分数： 0.796813946498\n",
      "[准确率] 训练集： 1.0000 测试集： 0.7863\n",
      "[auc值] 训练集： 1.0000 测试集： 0.7639\n"
     ]
    }
   ],
   "source": [
    "#随机森林选择贡献度大于0.01的特征测试\n",
    "rf0 = RandomForestClassifier(n_estimators=1000, oob_score=True, random_state=2018)\n",
    "rf0.fit(X_train, y_train)\n",
    "print('袋外分数：', rf0.oob_score_)\n",
    "model_metrics(rf0, X_train, X_test, y_train, y_test)"
   ]
  },
  {
   "cell_type": "markdown",
   "metadata": {},
   "source": [
    "### 3.2 IV值进行特征选择"
   ]
  },
  {
   "cell_type": "code",
   "execution_count": 42,
   "metadata": {
    "collapsed": true
   },
   "outputs": [],
   "source": [
    "#划分训练数据和训练结果\n",
    "y_train = train.status\n",
    "X_train = train.drop(\"status\", axis=1)\n",
    "#划分测试数据和测试结果\n",
    "y_test = test.status\n",
    "X_test = test.drop(\"status\", axis=1)"
   ]
  },
  {
   "cell_type": "code",
   "execution_count": 43,
   "metadata": {
    "collapsed": true
   },
   "outputs": [],
   "source": [
    "#封装计算iv的方法\n",
    "import math\n",
    "import numpy as np\n",
    "from scipy import stats\n",
    "from sklearn.utils.multiclass import type_of_target\n",
    "\n",
    "def woe(X, y, event=1):  \n",
    "    res_woe = []\n",
    "    iv_dict = {}\n",
    "    for feature in X.columns:\n",
    "        x = X[feature].values\n",
    "        # 1) 连续特征离散化\n",
    "        if type_of_target(x) == 'continuous':\n",
    "            x = discrete(x)\n",
    "        # 2) 计算该特征的woe和iv\n",
    "        # woe_dict, iv = woe_single_x(x, y, feature, event)\n",
    "        woe_dict, iv = woe_single_x(x, y, feature, event)\n",
    "        iv_dict[feature] = iv\n",
    "        res_woe.append(woe_dict) \n",
    "        \n",
    "    return iv_dict\n",
    "        \n",
    "def discrete(x):\n",
    "    # 使用5等分离散化特征\n",
    "    res = np.zeros(x.shape)\n",
    "    for i in range(5):\n",
    "        point1 = stats.scoreatpercentile(x, i * 20)\n",
    "        point2 = stats.scoreatpercentile(x, (i + 1) * 20)\n",
    "        x1 = x[np.where((x >= point1) & (x <= point2))]\n",
    "        mask = np.in1d(x, x1)\n",
    "        res[mask] = i + 1    # 将[i, i+1]块内的值标记成i+1\n",
    "    return res\n",
    "\n",
    "def woe_single_x(x, y, feature,event = 1):\n",
    "    # event代表预测正例的标签\n",
    "    event_total = sum(y == event)\n",
    "    non_event_total = y.shape[-1] - event_total\n",
    "    \n",
    "    iv = 0\n",
    "    woe_dict = {}\n",
    "    for x1 in set(x):    # 遍历各个块\n",
    "        y1 = y.reindex(np.where(x == x1)[0])\n",
    "        event_count = sum(y1 == event)\n",
    "        non_event_count = y1.shape[-1] - event_count\n",
    "        rate_event = event_count / event_total    \n",
    "        rate_non_event = non_event_count / non_event_total\n",
    "        \n",
    "        if rate_event == 0:\n",
    "            rate_event = 0.0001\n",
    "            # woei = -20\n",
    "        elif rate_non_event == 0:\n",
    "            rate_non_event = 0.0001\n",
    "            # woei = 20\n",
    "        woei = math.log(rate_event / rate_non_event)\n",
    "        woe_dict[x1] = woei\n",
    "        iv += (rate_event - rate_non_event) * woei\n",
    "    return woe_dict, iv"
   ]
  },
  {
   "cell_type": "code",
   "execution_count": 44,
   "metadata": {},
   "outputs": [
    {
     "data": {
      "text/plain": [
       "[('custid', 2.6909066431469095),\n",
       " ('historical_trans_amount', 2.6609646134512865),\n",
       " ('trans_amount_3_month', 2.5546436077538357),\n",
       " ('repayment_capability', 2.327229251967252),\n",
       " ('pawns_auctions_trusts_consume_last_6_month', 2.220777389641486),\n",
       " ('abs', 1.966985825643712),\n",
       " ('max_cumulative_consume_later_1_month', 1.4598660465564153),\n",
       " ('pawns_auctions_trusts_consume_last_1_month', 0.8530625616084101),\n",
       " ('avg_price_last_12_month', 0.7281431950917352),\n",
       " ('take_amount_in_later_12_month_highest', 0.4407207265219969),\n",
       " ('latest_query_time_month', 0.25139126628755865),\n",
       " ('loans_latest_time_weekday', 0.24326338644309412),\n",
       " ('history_fail_fee', 0.23601952893571299),\n",
       " ('loans_latest_time_month', 0.23316679232272933),\n",
       " ('latest_query_day', 0.23165030755336188),\n",
       " ('history_suc_fee', 0.23132587006862826),\n",
       " ('trans_days_interval', 0.23127346695672282),\n",
       " ('trans_activity_day', 0.23089021521474926),\n",
       " ('latest_six_month_apply', 0.23004076549705482),\n",
       " ('apply_score', 0.22999736959648898),\n",
       " ('loans_avg_limit', 0.22937233933022275),\n",
       " ('loans_credibility_limit', 0.22923404864220617),\n",
       " ('二线城市', 0.22835785178159998),\n",
       " ('low_volume_percent', 0.22831922306127952),\n",
       " ('consfin_credibility', 0.22804472290267083),\n",
       " ('avg_price_top_last_12_valid_month', 0.22804418697211443),\n",
       " ('latest_three_month_loan', 0.22786568449353656),\n",
       " ('historical_trans_day', 0.22785892580201067),\n",
       " ('latest_one_month_loan', 0.2259858987958161),\n",
       " ('trans_day_last_12_month', 0.2258295769673027),\n",
       " ('loans_cash_count', 0.22582167536745912),\n",
       " ('loans_org_count_current', 0.22582167536745912),\n",
       " ('first_transaction_day', 0.22577667440590374),\n",
       " ('first_transaction_time', 0.22558029316437583),\n",
       " ('trans_amount_increase_rate_lately', 0.22553777250765294),\n",
       " ('middle_volume_percent', 0.22535903805135094),\n",
       " ('consume_top_time_last_6_month', 0.2253530270376462),\n",
       " ('query_org_count', 0.22529059153249648),\n",
       " ('一线城市', 0.2250434530120855),\n",
       " ('trans_top_time_last_6_month', 0.22440575809597219),\n",
       " ('trans_fail_top_count_enum_last_1_month', 0.2242031888186113),\n",
       " ('loans_org_count_behavior', 0.22411751635509966),\n",
       " ('latest_six_month_loan', 0.22372060084022297),\n",
       " ('境外', 0.22366745673000382),\n",
       " ('loans_product_count', 0.223611713328623),\n",
       " ('consfin_avg_limit', 0.22347209785006059),\n",
       " ('trans_days_interval_filter', 0.22340299880606143),\n",
       " ('number_of_trans_from_2011', 0.22308989504593096),\n",
       " ('apply_credibility', 0.22274532659739935),\n",
       " ('loans_overdue_count', 0.22262741793816765),\n",
       " ('loans_score', 0.2225002169626543),\n",
       " ('loans_latest_day', 0.22241446845462567),\n",
       " ('consfin_credit_limit', 0.22228309104879887),\n",
       " ('loans_count', 0.22227945107950234),\n",
       " ('loans_credibility_behavior', 0.22203257178296298),\n",
       " ('loans_settle_count', 0.2219171432554008),\n",
       " ('rank_trad_1_month', 0.2218401640065109),\n",
       " ('query_cash_count', 0.2216362408399449),\n",
       " ('loans_long_time', 0.22161254075577275),\n",
       " ('regional_mobility', 0.22150812112017015),\n",
       " ('latest_query_time_weekday', 0.2215008902334139),\n",
       " ('query_sum_count', 0.2210085646317297),\n",
       " ('consume_top_time_last_1_month', 0.2206710654401162),\n",
       " ('consume_mini_time_last_1_month', 0.22038175378437908),\n",
       " ('trans_fail_top_count_enum_last_12_month', 0.22027549211946645),\n",
       " ('consfin_max_limit', 0.22016256897174105),\n",
       " ('trans_activity_month', 0.22015938020797166),\n",
       " ('top_trans_count_last_1_month', 0.22013392802621778),\n",
       " ('latest_one_month_apply', 0.2198386582706197),\n",
       " ('consfin_product_count', 0.21981612729230302),\n",
       " ('max_consume_count_later_6_month', 0.21980267330646783),\n",
       " ('latest_three_month_apply', 0.219745341760752),\n",
       " ('consfin_org_count_behavior', 0.21964389703494608),\n",
       " ('consfin_org_count_current', 0.21964389703494608),\n",
       " ('avg_consume_less_12_valid_month', 0.21883300876505346),\n",
       " ('trans_fail_top_count_enum_last_6_month', 0.21882948763455295),\n",
       " ('cross_consume_count_last_1_month', 0.21869363923411914),\n",
       " ('transd_mcc', 0.21865573796739254),\n",
       " ('其他城市', 0.2185500702073389),\n",
       " ('loans_credit_limit', 0.21821927461429466),\n",
       " ('trans_top_time_last_1_month', 0.21803681758281673),\n",
       " ('query_finance_count', 0.21790525591920654),\n",
       " ('loans_max_limit', 0.21760772188869903),\n",
       " ('三线城市', 0.21755723341508837),\n",
       " ('latest_one_month_fail', 0.21753031430667408),\n",
       " ('is_high_user', 0.2175215044170788),\n",
       " ('latest_one_month_suc', 0.21715553601300325),\n",
       " ('railway_consume_count_last_12_month', 0.21687601425054276),\n",
       " ('jewelry_consume_count_last_6_month', 0.21687601425054276)]"
      ]
     },
     "execution_count": 44,
     "metadata": {},
     "output_type": "execute_result"
    }
   ],
   "source": [
    "import warnings\n",
    "warnings.filterwarnings(\"ignore\")\n",
    "\n",
    "iv_dict = woe(X_train, y_train)\n",
    "iv = sorted(iv_dict.items(), key = lambda x:x[1],reverse = True)\n",
    "iv"
   ]
  },
  {
   "cell_type": "markdown",
   "metadata": {},
   "source": [
    "# 4.模型构建"
   ]
  },
  {
   "cell_type": "markdown",
   "metadata": {},
   "source": [
    "### 归一化处理"
   ]
  },
  {
   "cell_type": "code",
   "execution_count": 45,
   "metadata": {
    "collapsed": true
   },
   "outputs": [],
   "source": [
    "from sklearn.metrics import accuracy_score, precision_score, recall_score, f1_score\n",
    "from sklearn.metrics import roc_auc_score,roc_curve, auc"
   ]
  },
  {
   "cell_type": "code",
   "execution_count": 46,
   "metadata": {
    "collapsed": true
   },
   "outputs": [],
   "source": [
    "# 定义评估函数\n",
    "def model_metrics(clf, X_train, X_test, y_train, y_test):\n",
    "    # 预测\n",
    "    y_train_pred = clf.predict(X_train)\n",
    "    y_test_pred = clf.predict(X_test)\n",
    "    \n",
    "    y_train_proba = clf.predict_proba(X_train)[:,1]\n",
    "    y_test_proba = clf.predict_proba(X_test)[:,1]\n",
    "    \n",
    "    # 准确率\n",
    "    print('[准确率]', end = ' ')\n",
    "    print('训练集：', '%.4f'%accuracy_score(y_train, y_train_pred), end = ' ')\n",
    "    print('测试集：', '%.4f'%accuracy_score(y_test, y_test_pred))\n",
    "    \n",
    "    # 精准率\n",
    "    print('[精准率]', end = ' ')\n",
    "    print('训练集：', '%.4f'%precision_score(y_train, y_train_pred), end = ' ')\n",
    "    print('测试集：', '%.4f'%precision_score(y_test, y_test_pred))\n",
    "\n",
    "    # 召回率\n",
    "    print('[召回率]', end = ' ')\n",
    "    print('训练集：', '%.4f'%recall_score(y_train, y_train_pred), end = ' ')\n",
    "    print('测试集：', '%.4f'%recall_score(y_test, y_test_pred))\n",
    "    \n",
    "    # f1-score\n",
    "    print('[f1-score]', end = ' ')\n",
    "    print('训练集：', '%.4f'%f1_score(y_train, y_train_pred), end = ' ')\n",
    "    print('测试集：', '%.4f'%f1_score(y_test, y_test_pred))\n",
    "    \n",
    "    # auc取值：用roc_auc_score或auc\n",
    "    print('[auc值]', end = ' ')\n",
    "    print('训练集：', '%.4f'%roc_auc_score(y_train, y_train_proba), end = ' ')\n",
    "    print('测试集：', '%.4f'%roc_auc_score(y_test, y_test_proba))\n",
    "    \n",
    "    # roc曲线\n",
    "    fpr_train, tpr_train, thresholds_train = roc_curve(y_train, y_train_proba, pos_label = 1)\n",
    "    fpr_test, tpr_test, thresholds_test = roc_curve(y_test, y_test_proba, pos_label = 1)\n",
    "    \n",
    "    label = [\"Train - AUC:{:.4f}\".format(auc(fpr_train, tpr_train)), \n",
    "             \"Test - AUC:{:.4f}\".format(auc(fpr_test, tpr_test))]\n",
    "    plt.plot(fpr_train,tpr_train)\n",
    "    plt.plot(fpr_test,tpr_test)\n",
    "    plt.plot([0, 1], [0, 1], 'd--')\n",
    "    plt.xlabel('False Positive Rate')\n",
    "    plt.ylabel('True Positive Rate')\n",
    "    plt.legend(label, loc = 4)\n",
    "    plt.title(\"ROC curve\")"
   ]
  },
  {
   "cell_type": "code",
   "execution_count": 47,
   "metadata": {
    "collapsed": true
   },
   "outputs": [],
   "source": [
    "#划分训练数据和训练结果\n",
    "X_train = train[prediction_var]\n",
    "y_train = train.status\n",
    "#划分测试数据和测试结果\n",
    "X_test = test[prediction_var]\n",
    "y_test = test.status"
   ]
  },
  {
   "cell_type": "code",
   "execution_count": 48,
   "metadata": {
    "collapsed": true
   },
   "outputs": [],
   "source": [
    "# 标准化\n",
    "from sklearn.preprocessing import StandardScaler\n",
    "ss = StandardScaler()\n",
    "X_train_std = ss.fit_transform(X_train)\n",
    "X_test_std = ss.fit_transform(X_test)"
   ]
  },
  {
   "cell_type": "markdown",
   "metadata": {},
   "source": [
    "### LR"
   ]
  },
  {
   "cell_type": "code",
   "execution_count": 49,
   "metadata": {},
   "outputs": [
    {
     "name": "stdout",
     "output_type": "stream",
     "text": [
      "[准确率] 训练集： 0.8007 测试集： 0.7863\n",
      "[精准率] 训练集： 0.7002 测试集： 0.6484\n",
      "[召回率] 训练集： 0.3585 测试集： 0.3287\n",
      "[f1-score] 训练集： 0.4742 测试集： 0.4362\n",
      "[auc值] 训练集： 0.8085 测试集： 0.7578\n"
     ]
    },
    {
     "data": {
      "image/png": "[encoded data removed]",
      "text/plain": [
       "<matplotlib.figure.Figure at 0x115280ba8>"
      ]
     },
     "metadata": {},
     "output_type": "display_data"
    }
   ],
   "source": [
    "from sklearn.linear_model import LogisticRegression\n",
    "lr = LogisticRegression()\n",
    "lr.fit(X_train_std, y_train)\n",
    "model_metrics(lr, X_train_std, X_test_std, y_train, y_test)"
   ]
  },
  {
   "cell_type": "markdown",
   "metadata": {},
   "source": [
    "### SVM"
   ]
  },
  {
   "cell_type": "code",
   "execution_count": 50,
   "metadata": {},
   "outputs": [
    {
     "name": "stdout",
     "output_type": "stream",
     "text": [
      "[准确率] 训练集： 0.7962 测试集： 0.7730\n",
      "[精准率] 训练集： 0.7583 测试集： 0.6471\n",
      "[召回率] 训练集： 0.2746 测试集： 0.2145\n",
      "[f1-score] 训练集： 0.4032 测试集： 0.3222\n",
      "[auc值] 训练集： 0.8096 测试集： 0.7696\n"
     ]
    },
    {
     "data": {
      "image/png": "[encoded data removed]",
      "text/plain": [
       "<matplotlib.figure.Figure at 0x1142d0f98>"
      ]
     },
     "metadata": {},
     "output_type": "display_data"
    }
   ],
   "source": [
    "from sklearn.svm import  SVC\n",
    "# 线性\n",
    "linear_svc = SVC(kernel='linear', probability=True)\n",
    "linear_svc.fit(X_train_std,y_train)\n",
    "model_metrics(linear_svc, X_train_std, X_test_std, y_train, y_test)"
   ]
  },
  {
   "cell_type": "code",
   "execution_count": 51,
   "metadata": {},
   "outputs": [
    {
     "name": "stdout",
     "output_type": "stream",
     "text": [
      "[准确率] 训练集： 0.7962 测试集： 0.7730\n",
      "[精准率] 训练集： 0.7583 测试集： 0.6471\n",
      "[召回率] 训练集： 0.2746 测试集： 0.2145\n",
      "[f1-score] 训练集： 0.4032 测试集： 0.3222\n",
      "[auc值] 训练集： 0.8096 测试集： 0.7696\n"
     ]
    },
    {
     "data": {
      "image/png": "[encoded data removed]",
      "text/plain": [
       "<matplotlib.figure.Figure at 0x11a148320>"
      ]
     },
     "metadata": {},
     "output_type": "display_data"
    }
   ],
   "source": [
    "# 多项式\n",
    "poly_svc = SVC(kernel='linear', probability=True)\n",
    "poly_svc.fit(X_train_std,y_train)\n",
    "model_metrics(poly_svc, X_train_std, X_test_std, y_train, y_test)"
   ]
  },
  {
   "cell_type": "markdown",
   "metadata": {},
   "source": [
    "### 决策树"
   ]
  },
  {
   "cell_type": "code",
   "execution_count": 52,
   "metadata": {},
   "outputs": [
    {
     "name": "stdout",
     "output_type": "stream",
     "text": [
      "[准确率] 训练集： 1.0000 测试集： 0.6664\n",
      "[精准率] 训练集： 1.0000 测试集： 0.3720\n",
      "[召回率] 训练集： 1.0000 测试集： 0.4735\n",
      "[f1-score] 训练集： 1.0000 测试集： 0.4167\n",
      "[auc值] 训练集： 1.0000 测试集： 0.6024\n"
     ]
    },
    {
     "data": {
      "image/png": "[encoded data removed]",
      "text/plain": [
       "<matplotlib.figure.Figure at 0x11a17c9e8>"
      ]
     },
     "metadata": {},
     "output_type": "display_data"
    }
   ],
   "source": [
    "from sklearn.tree import DecisionTreeClassifier\n",
    "\n",
    "dt = DecisionTreeClassifier()\n",
    "dt.fit(X_train_std,y_train)\n",
    "model_metrics(dt, X_train_std, X_test_std, y_train, y_test)"
   ]
  },
  {
   "cell_type": "markdown",
   "metadata": {},
   "source": [
    "### GBDT"
   ]
  },
  {
   "cell_type": "code",
   "execution_count": 53,
   "metadata": {},
   "outputs": [
    {
     "name": "stdout",
     "output_type": "stream",
     "text": [
      "[准确率] 训练集： 0.9417 测试集： 0.7687\n",
      "[精准率] 训练集： 0.9863 测试集： 0.5879\n",
      "[召回率] 训练集： 0.7782 测试集： 0.2702\n",
      "[f1-score] 训练集： 0.8700 测试集： 0.3702\n",
      "[auc值] 训练集： 0.9862 测试集： 0.7340\n"
     ]
    },
    {
     "data": {
      "image/png": "[encoded data removed]",
      "text/plain": [
       "<matplotlib.figure.Figure at 0x11a148400>"
      ]
     },
     "metadata": {},
     "output_type": "display_data"
    }
   ],
   "source": [
    "from sklearn.ensemble import GradientBoostingClassifier\n",
    "params_en = {'n_estimators': 80,\n",
    "            'max_depth': 5} \n",
    "gbdt_model = GradientBoostingClassifier(**params_en)\n",
    "gbdt_model.fit(X_train_std, y_train)\n",
    "model_metrics(gbdt_model, X_train_std, X_test_std, y_train, y_test)\n"
   ]
  },
  {
   "cell_type": "markdown",
   "metadata": {},
   "source": [
    "### XGBoost"
   ]
  },
  {
   "cell_type": "code",
   "execution_count": 54,
   "metadata": {},
   "outputs": [
    {
     "name": "stdout",
     "output_type": "stream",
     "text": [
      "[准确率] 训练集： 0.8819 测试集： 0.7793\n",
      "[精准率] 训练集： 0.9282 测试集： 0.6122\n",
      "[召回率] 训练集： 0.5731 测试集： 0.3343\n",
      "[f1-score] 训练集： 0.7087 测试集： 0.4324\n",
      "[auc值] 训练集： 0.9472 测试集： 0.7628\n"
     ]
    },
    {
     "data": {
      "image/png": "[encoded data removed]",
      "text/plain": [
       "<matplotlib.figure.Figure at 0x11a3cccf8>"
      ]
     },
     "metadata": {},
     "output_type": "display_data"
    }
   ],
   "source": [
    "from xgboost.sklearn import XGBClassifier\n",
    "xgb_params = {\n",
    "    'learning_rate': 0.1,\n",
    "    'n_estimators': 42,\n",
    "    'max_depth': 5,\n",
    "    'min_child_weight': 1,\n",
    "    'gamma': 0,\n",
    "    'subsample': 0.8,\n",
    "    'colsample_bytree': 0.8,\n",
    "    'objective': 'binary:logistic',\n",
    "    'nthread': 4,\n",
    "    'scale_pos_weight': 1,\n",
    "    'seed': 112\n",
    "}\n",
    "xgb_model = XGBClassifier(**xgb_params)\n",
    "xgb_model.fit(X_train_std, y_train)\n",
    "model_metrics(xgb_model, X_train_std, X_test_std, y_train, y_test)"
   ]
  },
  {
   "cell_type": "markdown",
   "metadata": {},
   "source": [
    "### LightGBM"
   ]
  },
  {
   "cell_type": "code",
   "execution_count": 55,
   "metadata": {},
   "outputs": [
    {
     "name": "stdout",
     "output_type": "stream",
     "text": [
      "[准确率] 训练集： 0.8789 测试集： 0.7793\n",
      "[精准率] 训练集： 0.9319 测试集： 0.6209\n",
      "[召回率] 训练集： 0.5576 测试集： 0.3148\n",
      "[f1-score] 训练集： 0.6977 测试集： 0.4177\n",
      "[auc值] 训练集： 0.9476 测试集： 0.7558\n"
     ]
    },
    {
     "data": {
      "image/png": "[encoded data removed]",
      "text/plain": [
       "<matplotlib.figure.Figure at 0x11a1484e0>"
      ]
     },
     "metadata": {},
     "output_type": "display_data"
    }
   ],
   "source": [
    "from lightgbm.sklearn import  LGBMClassifier\n",
    "lgb_params  = {\n",
    "    'learning_rate': 0.1,\n",
    "    'n_estimators': 42,\n",
    "    'max_depth': 5,\n",
    "    'min_child_weight': 1,\n",
    "    'gamma': 0,\n",
    "    'subsample': 0.8,\n",
    "    'colsample_bytree': 0.8,\n",
    "    'objective': 'binary', # 这里和 xgb 不一样\n",
    "    'nthread': 4,\n",
    "    'scale_pos_weight': 1,\n",
    "    'seed': 112\n",
    "}\n",
    "lgb_model = LGBMClassifier(**lgb_params) \n",
    " \n",
    "lgb_model.fit(X_train_std, y_train)\n",
    "model_metrics(lgb_model, X_train_std, X_test_std, y_train, y_test)"
   ]
  },
  {
   "cell_type": "markdown",
   "metadata": {},
   "source": [
    "# 5.模型调优"
   ]
  },
  {
   "cell_type": "code",
   "execution_count": 56,
   "metadata": {
    "collapsed": true
   },
   "outputs": [],
   "source": [
    "from sklearn.model_selection import GridSearchCV\n",
    "#定义网格搜索函数\n",
    "def Classification_model_gridsearchCV(model, param_grid, data_X, data_y):\n",
    "    clf = GridSearchCV(model, param_grid, cv=5, scoring=\"accuracy\")    \n",
    "    #model:模型\n",
    "    #param_grid：参数\n",
    "    #CV：折检验\n",
    "    #scoring：评分\n",
    "    clf.fit(data_X, data_y)  \n",
    "    print(\"The best parameter found on development set is :\")\n",
    "    print(clf.best_params_)\n",
    "    print(\"----------------------------------------------\")\n",
    "    print(\"the best estimator is \")\n",
    "    print(clf.best_estimator_)\n",
    "    print(\"----------------------------------------------\")\n",
    "    print(\"The best score is \")\n",
    "    print(clf.best_score_)"
   ]
  },
  {
   "cell_type": "code",
   "execution_count": 57,
   "metadata": {},
   "outputs": [
    {
     "name": "stdout",
     "output_type": "stream",
     "text": [
      "(3327, 46)\n"
     ]
    }
   ],
   "source": [
    "print(X_train_std.shape)"
   ]
  },
  {
   "cell_type": "markdown",
   "metadata": {},
   "source": [
    "### LR"
   ]
  },
  {
   "cell_type": "code",
   "execution_count": 58,
   "metadata": {},
   "outputs": [
    {
     "name": "stdout",
     "output_type": "stream",
     "text": [
      "The best parameter found on development set is :\n",
      "{'C': 0.05, 'penalty': 'l2', 'tol': 0.0001}\n",
      "----------------------------------------------\n",
      "the best estimator is \n",
      "LogisticRegression(C=0.05, class_weight=None, dual=False, fit_intercept=True,\n",
      "          intercept_scaling=1, max_iter=100, multi_class='ovr', n_jobs=1,\n",
      "          penalty='l2', random_state=None, solver='liblinear', tol=0.0001,\n",
      "          verbose=0, warm_start=False)\n",
      "----------------------------------------------\n",
      "The best score is \n",
      "0.794108806733\n"
     ]
    }
   ],
   "source": [
    "model = LogisticRegression()\n",
    "param_grid =  {\n",
    "    'C': [0.05, 0.1, 0.5, 1.5],\n",
    "    'penalty': ['l1', 'l2'],\n",
    "    'tol': [1e-4, 1e-5, 1e-6]\n",
    "}\n",
    "Classification_model_gridsearchCV(model, param_grid, X_train_std, y_train)"
   ]
  },
  {
   "cell_type": "markdown",
   "metadata": {},
   "source": [
    "### SVM"
   ]
  },
  {
   "cell_type": "code",
   "execution_count": 59,
   "metadata": {},
   "outputs": [
    {
     "name": "stdout",
     "output_type": "stream",
     "text": [
      "The best parameter found on development set is :\n",
      "{'C': 0.1, 'kernel': 'linear'}\n",
      "----------------------------------------------\n",
      "the best estimator is \n",
      "SVC(C=0.1, cache_size=200, class_weight=None, coef0=0.0,\n",
      "  decision_function_shape='ovr', degree=3, gamma='auto', kernel='linear',\n",
      "  max_iter=-1, probability=False, random_state=None, shrinking=True,\n",
      "  tol=0.001, verbose=False)\n",
      "----------------------------------------------\n",
      "The best score is \n",
      "0.792305380222\n"
     ]
    }
   ],
   "source": [
    "model = SVC()\n",
    "param_grid = [\n",
    "              {'C': [0.05, 0.1, 0.5, 1.5], \n",
    "               'kernel': ['linear']\n",
    "              },\n",
    "              {'C': [0.05, 0.1, 0.5, 1.5], \n",
    "               'gamma': [0.001, 0.0001], \n",
    "               'kernel': ['rbf']\n",
    "              },\n",
    " ]\n",
    "Classification_model_gridsearchCV(model, param_grid, X_train_std, y_train)"
   ]
  },
  {
   "cell_type": "markdown",
   "metadata": {},
   "source": [
    "### 决策树"
   ]
  },
  {
   "cell_type": "code",
   "execution_count": 61,
   "metadata": {},
   "outputs": [
    {
     "name": "stdout",
     "output_type": "stream",
     "text": [
      "The best parameter found on development set is :\n",
      "{'max_features': 'log2', 'min_samples_leaf': 10, 'min_samples_split': 6}\n",
      "----------------------------------------------\n",
      "the best estimator is \n",
      "DecisionTreeClassifier(class_weight=None, criterion='gini', max_depth=None,\n",
      "            max_features='log2', max_leaf_nodes=None,\n",
      "            min_impurity_decrease=0.0, min_impurity_split=None,\n",
      "            min_samples_leaf=10, min_samples_split=6,\n",
      "            min_weight_fraction_leaf=0.0, presort=False, random_state=None,\n",
      "            splitter='best')\n",
      "----------------------------------------------\n",
      "The best score is \n",
      "0.746318004208\n"
     ]
    }
   ],
   "source": [
    "#决策树\n",
    "model= DecisionTreeClassifier()\n",
    "\n",
    "param_grid =  {'max_features': ['auto', 'sqrt', 'log2'],\n",
    "              'min_samples_split': [2,3,4,5,6,7,8,9,10], \n",
    "              'min_samples_leaf':[2,3,4,5,6,7,8,9,10] }\n",
    "Classification_model_gridsearchCV(model, param_grid, X_train_std, y_train)"
   ]
  },
  {
   "cell_type": "markdown",
   "metadata": {},
   "source": [
    "### XGBoost"
   ]
  },
  {
   "cell_type": "code",
   "execution_count": 73,
   "metadata": {},
   "outputs": [
    {
     "name": "stdout",
     "output_type": "stream",
     "text": [
      "The best parameter found on development set is :\n",
      "{'booster': 'gblinear', 'max_depth': 3}\n",
      "----------------------------------------------\n",
      "the best estimator is \n",
      "XGBClassifier(base_score=0.5, booster='gblinear', colsample_bylevel=1,\n",
      "       colsample_bytree=1, gamma=0, learning_rate=0.1, max_delta_step=0,\n",
      "       max_depth=3, min_child_weight=1, missing=None, n_estimators=100,\n",
      "       n_jobs=1, nthread=None, objective='binary:logistic', random_state=0,\n",
      "       reg_alpha=0, reg_lambda=1, scale_pos_weight=1, seed=None,\n",
      "       silent=True, subsample=1)\n",
      "----------------------------------------------\n",
      "The best score is \n",
      "0.795010519988\n"
     ]
    }
   ],
   "source": [
    "from xgboost.sklearn import XGBClassifier\n",
    "xgb_params = {'booster': ['gbtree', 'gblinear'],\n",
    "                 'max_depth': range(3, 6)}\n",
    "xgb_model = XGBClassifier()\n",
    "Classification_model_gridsearchCV(xgb_model, xgb_params, X_train_std, y_train)"
   ]
  },
  {
   "cell_type": "markdown",
   "metadata": {},
   "source": [
    "### LightGBM"
   ]
  },
  {
   "cell_type": "code",
   "execution_count": 75,
   "metadata": {},
   "outputs": [
    {
     "name": "stdout",
     "output_type": "stream",
     "text": [
      "The best parameter found on development set is :\n",
      "{'boosting_type': 'gbdt', 'learning_rate': 0.05, 'max_depth': 10, 'n_estimators': 100}\n",
      "----------------------------------------------\n",
      "the best estimator is \n",
      "LGBMClassifier(boosting_type='gbdt', class_weight=None, colsample_bytree=1.0,\n",
      "        importance_type='split', learning_rate=0.05, max_depth=10,\n",
      "        min_child_samples=20, min_child_weight=0.001, min_split_gain=0.0,\n",
      "        n_estimators=100, n_jobs=-1, num_leaves=31, objective=None,\n",
      "        random_state=None, reg_alpha=0.0, reg_lambda=0.0, silent=True,\n",
      "        subsample=1.0, subsample_for_bin=200000, subsample_freq=0)\n",
      "----------------------------------------------\n",
      "The best score is \n",
      "0.794108806733\n"
     ]
    }
   ],
   "source": [
    "from lightgbm.sklearn import  LGBMClassifier\n",
    "lgb_params  = {\n",
    "    'boosting_type': ['gbdt'],\n",
    "    \"max_depth\": [5, 10],\n",
    "    \"learning_rate\": [0.01, 0.05],\n",
    "    'n_estimators': [100]\n",
    "}\n",
    "\n",
    "lgb_model = LGBMClassifier() \n",
    "Classification_model_gridsearchCV(lgb_model, lgb_params, X_train_std, y_train)"
   ]
  },
  {
   "cell_type": "markdown",
   "metadata": {},
   "source": [
    "# 6.模型融合"
   ]
  },
  {
   "cell_type": "code",
   "execution_count": null,
   "metadata": {
    "collapsed": true
   },
   "outputs": [],
   "source": []
  },
  {
   "cell_type": "code",
   "execution_count": 76,
   "metadata": {
    "collapsed": true
   },
   "outputs": [],
   "source": [
    "#调优后参数结果\n",
    "lr = LogisticRegression(C=0.05, penalty='l2', tol=0.0001)\n",
    "svm = SVC(C=0.1, kernel='linear')\n",
    "dt = DecisionTreeClassifier(max_features='log2', min_samples_leaf=10, min_samples_split=6)\n",
    "xgb = XGBClassifier(learning_rate =0.01, n_estimators=180, max_depth=3, min_child_weight=5, \n",
    "                    gamma=0.4, subsample=0.5, colsample_bytree=0.9, reg_alpha=1, \n",
    "                    objective= 'binary:logistic', nthread=4,scale_pos_weight=1, seed=27)\n",
    "lgb = LGBMClassifier(learning_rate =0.1, n_estimators=60, max_depth=3, min_child_weight=11, \n",
    "                    gamma=0.1, subsample=0.5, colsample_bytree=0.8, reg_alpha=1e-5, \n",
    "                    nthread=4,scale_pos_weight=1, seed=27)"
   ]
  },
  {
   "cell_type": "code",
   "execution_count": 82,
   "metadata": {},
   "outputs": [
    {
     "name": "stdout",
     "output_type": "stream",
     "text": [
      "[准确率] 训练集： 0.8440 测试集： 0.7421\n",
      "[精准率] 训练集： 0.7368 测试集： 0.4862\n",
      "[召回率] 训练集： 0.5875 测试集： 0.4401\n",
      "[f1-score] 训练集： 0.6538 测试集： 0.4620\n",
      "[auc值] 训练集： 0.7889 测试集： 0.6785\n"
     ]
    },
    {
     "data": {
      "image/png": "[encoded data removed]",
      "text/plain": [
       "<matplotlib.figure.Figure at 0x11b229b70>"
      ]
     },
     "metadata": {},
     "output_type": "display_data"
    }
   ],
   "source": [
    "import warnings\n",
    "warnings.filterwarnings(\"ignore\")\n",
    "\n",
    "from mlxtend.classifier import StackingClassifier\n",
    "\n",
    "sclf = StackingClassifier(classifiers=[lr,svm,dt,xgb,lgb ], meta_classifier=lr)\n",
    "sclf.fit(X_train_std, y_train)\n",
    "model_metrics(sclf, X_train_std, X_test_std, y_train, y_test)"
   ]
  },
  {
   "cell_type": "code",
   "execution_count": null,
   "metadata": {
    "collapsed": true
   },
   "outputs": [],
   "source": []
  },
  {
   "cell_type": "code",
   "execution_count": null,
   "metadata": {
    "collapsed": true
   },
   "outputs": [],
   "source": []
  }
 ],
 "metadata": {
  "kernelspec": {
   "display_name": "Python 3",
   "language": "python",
   "name": "python3"
  },
  "language_info": {
   "codemirror_mode": {
    "name": "ipython",
    "version": 3
   },
   "file_extension": ".py",
   "mimetype": "text/x-python",
   "name": "python",
   "nbconvert_exporter": "python",
   "pygments_lexer": "ipython3",
   "version": "3.6.8"
  }
 },
 "nbformat": 4,
 "nbformat_minor": 2
}
